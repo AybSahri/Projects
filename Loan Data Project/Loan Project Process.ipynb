{
 "cells": [
  {
   "cell_type": "markdown",
   "id": "6963e14d-f273-4bb8-b5eb-a30dc7bbfa3e",
   "metadata": {},
   "source": [
    "## Importing the Packages"
   ]
  },
  {
   "cell_type": "code",
   "execution_count": 633,
   "id": "863eaa2d-7548-459b-a893-53698e30e08b",
   "metadata": {},
   "outputs": [],
   "source": [
    "import numpy as np"
   ]
  },
  {
   "cell_type": "code",
   "execution_count": 634,
   "id": "08fdc244-91e8-4246-b780-fa88f6c0f047",
   "metadata": {},
   "outputs": [],
   "source": [
    "np.set_printoptions(suppress= True, linewidth = 100, precision = 2)"
   ]
  },
  {
   "cell_type": "markdown",
   "id": "09332e2e-ad30-4eee-aae3-9db60847189e",
   "metadata": {},
   "source": [
    "## Importing the DATA"
   ]
  },
  {
   "cell_type": "code",
   "execution_count": 636,
   "id": "b42bcb9e-f530-4205-96ee-f6f4f8459e94",
   "metadata": {},
   "outputs": [
    {
     "name": "stdout",
     "output_type": "stream",
     "text": [
      "{'encoding': 'windows-1251', 'confidence': 0.855803891468281, 'language': 'Bulgarian'}\n"
     ]
    }
   ],
   "source": [
    "#This command is used to detect the encoding\n",
    "import chardet\n",
    "\n",
    "with open(\"loan-data.csv\", \"rb\") as f:\n",
    "    result = chardet.detect(f.read())\n",
    "    print(result)\n"
   ]
  },
  {
   "cell_type": "code",
   "execution_count": 637,
   "id": "dc5f76c8-e9d4-4d74-b82a-4c3462c758af",
   "metadata": {},
   "outputs": [
    {
     "name": "stdout",
     "output_type": "stream",
     "text": [
      "[[48010226.           nan    35000.   ...         nan         nan     9452.96]\n",
      " [57693261.           nan    30000.   ...         nan         nan     4679.7 ]\n",
      " [59432726.           nan    15000.   ...         nan         nan     1969.83]\n",
      " ...\n",
      " [50415990.           nan    10000.   ...         nan         nan     2185.64]\n",
      " [46154151.           nan         nan ...         nan         nan     3199.4 ]\n",
      " [66055249.           nan    10000.   ...         nan         nan      301.9 ]]\n"
     ]
    }
   ],
   "source": [
    "# Load the CSV file while specifying the encoding as 'windows-1251' (detected encoding for the file).\n",
    "# The delimiter is set to ';' as per the file format.\n",
    "raw_data_np = np.genfromtxt(\"loan-data.csv\", delimiter=';', skip_header= 1, autostrip= True, encoding='windows-1251')\n",
    "print(raw_data_np)"
   ]
  },
  {
   "cell_type": "markdown",
   "id": "715cb302-8de7-413e-885b-a6bcf4e6209a",
   "metadata": {},
   "source": [
    "## Chcking for Incomplete Data"
   ]
  },
  {
   "cell_type": "code",
   "execution_count": 639,
   "id": "00c90179-1c4e-418d-a247-aa6802fa5197",
   "metadata": {},
   "outputs": [
    {
     "data": {
      "text/plain": [
       "88005"
      ]
     },
     "execution_count": 639,
     "metadata": {},
     "output_type": "execute_result"
    }
   ],
   "source": [
    "np.isnan(raw_data_np).sum() #check how many missing values i have in the dastaset"
   ]
  },
  {
   "cell_type": "code",
   "execution_count": 640,
   "id": "29342049-43c3-490e-b1cf-ad1bf0adafd9",
   "metadata": {},
   "outputs": [
    {
     "name": "stderr",
     "output_type": "stream",
     "text": [
      "/tmp/ipykernel_150/4196470990.py:2: RuntimeWarning: Mean of empty slice\n",
      "  temporary_mean= np.nanmean(raw_data_np, axis= 0)\n"
     ]
    }
   ],
   "source": [
    "temporary_fill= np.nanmax(raw_data_np) + 1\n",
    "temporary_mean= np.nanmean(raw_data_np, axis= 0)"
   ]
  },
  {
   "cell_type": "code",
   "execution_count": 641,
   "id": "3294073c-c6da-4270-9cbf-e1bb1b30d11d",
   "metadata": {},
   "outputs": [
    {
     "data": {
      "text/plain": [
       "array([54015809.19,         nan,    15273.46,         nan,    15311.04,         nan,       16.62,\n",
       "            440.92,         nan,         nan,         nan,         nan,         nan,     3143.85])"
      ]
     },
     "execution_count": 641,
     "metadata": {},
     "output_type": "execute_result"
    }
   ],
   "source": [
    "temporary_mean"
   ]
  },
  {
   "cell_type": "code",
   "execution_count": 642,
   "id": "7b32c1ab-40ed-4309-abb4-49d1403dc975",
   "metadata": {},
   "outputs": [
    {
     "name": "stderr",
     "output_type": "stream",
     "text": [
      "/tmp/ipykernel_150/2780959208.py:1: RuntimeWarning: All-NaN slice encountered\n",
      "  temporary_stats= np.array([np.nanmin(raw_data_np, axis= 0),\n",
      "/tmp/ipykernel_150/2780959208.py:3: RuntimeWarning: All-NaN slice encountered\n",
      "  np.nanmax(raw_data_np, axis=0)])\n"
     ]
    }
   ],
   "source": [
    "temporary_stats= np.array([np.nanmin(raw_data_np, axis= 0),\n",
    "                                     temporary_mean,\n",
    "                                     np.nanmax(raw_data_np, axis=0)])"
   ]
  },
  {
   "cell_type": "code",
   "execution_count": 643,
   "id": "fb079bd5-d6cb-4120-a45d-0a1ddf432f26",
   "metadata": {},
   "outputs": [
    {
     "data": {
      "text/plain": [
       "array([[  373332.  ,         nan,     1000.  ,         nan,     1000.  ,         nan,        6.  ,\n",
       "              31.42,         nan,         nan,         nan,         nan,         nan,        0.  ],\n",
       "       [54015809.19,         nan,    15273.46,         nan,    15311.04,         nan,       16.62,\n",
       "             440.92,         nan,         nan,         nan,         nan,         nan,     3143.85],\n",
       "       [68616519.  ,         nan,    35000.  ,         nan,    35000.  ,         nan,       28.99,\n",
       "            1372.97,         nan,         nan,         nan,         nan,         nan,    41913.62]])"
      ]
     },
     "execution_count": 643,
     "metadata": {},
     "output_type": "execute_result"
    }
   ],
   "source": [
    "temporary_stats"
   ]
  },
  {
   "cell_type": "markdown",
   "id": "71c983e0-8045-4706-bfc8-6cbf86d7a5c0",
   "metadata": {},
   "source": [
    "## Spliting the Dataset"
   ]
  },
  {
   "cell_type": "code",
   "execution_count": 645,
   "id": "bfcd7ed9-ee05-40fc-94b6-e63b758b875c",
   "metadata": {},
   "outputs": [
    {
     "data": {
      "text/plain": [
       "array([ 1,  3,  5,  8,  9, 10, 11, 12])"
      ]
     },
     "execution_count": 645,
     "metadata": {},
     "output_type": "execute_result"
    }
   ],
   "source": [
    "columns_strings= np.argwhere(np.isnan(temporary_mean)).squeeze()\n",
    "columns_strings"
   ]
  },
  {
   "cell_type": "code",
   "execution_count": 646,
   "id": "21202084-4496-442e-92b6-fa0e7eee2f1c",
   "metadata": {},
   "outputs": [
    {
     "data": {
      "text/plain": [
       "array([ 0,  2,  4,  6,  7, 13])"
      ]
     },
     "execution_count": 646,
     "metadata": {},
     "output_type": "execute_result"
    }
   ],
   "source": [
    "columns_numeric= np.argwhere(np.isnan(temporary_mean) == False).squeeze()\n",
    "columns_numeric"
   ]
  },
  {
   "cell_type": "markdown",
   "id": "8e93a50f-8f81-4fda-9ce4-a4ffb3f2a220",
   "metadata": {},
   "source": [
    "## Re-importing the Dataset"
   ]
  },
  {
   "cell_type": "code",
   "execution_count": 648,
   "id": "24d19655-b6ab-457c-b8f2-b741178e4800",
   "metadata": {},
   "outputs": [
    {
     "data": {
      "text/plain": [
       "array([['May-15', 'Current', '36 months', ..., 'Verified',\n",
       "        'https://www.lendingclub.com/browse/loanDetail.action?loan_id=48010226', 'CA'],\n",
       "       ['', 'Current', '36 months', ..., 'Source Verified',\n",
       "        'https://www.lendingclub.com/browse/loanDetail.action?loan_id=57693261', 'NY'],\n",
       "       ['Sep-15', 'Current', '36 months', ..., 'Verified',\n",
       "        'https://www.lendingclub.com/browse/loanDetail.action?loan_id=59432726', 'PA'],\n",
       "       ...,\n",
       "       ['Jun-15', 'Current', '36 months', ..., 'Source Verified',\n",
       "        'https://www.lendingclub.com/browse/loanDetail.action?loan_id=50415990', 'CA'],\n",
       "       ['Apr-15', 'Current', '36 months', ..., 'Source Verified',\n",
       "        'https://www.lendingclub.com/browse/loanDetail.action?loan_id=46154151', 'OH'],\n",
       "       ['Dec-15', 'Current', '36 months', ..., '',\n",
       "        'https://www.lendingclub.com/browse/loanDetail.action?loan_id=66055249', 'IL']],\n",
       "      dtype='<U69')"
      ]
     },
     "execution_count": 648,
     "metadata": {},
     "output_type": "execute_result"
    }
   ],
   "source": [
    "#RRe-importing the Dataset, but only the string columns\n",
    "loan_data_strings= np.genfromtxt('loan-data.csv',\n",
    "                                 delimiter= ';',\n",
    "                                 skip_header= 1,\n",
    "                                 autostrip= True,\n",
    "                                 usecols= columns_strings,\n",
    "                                 encoding='windows-1251',\n",
    "                                 dtype= 'str')\n",
    "loan_data_strings"
   ]
  },
  {
   "cell_type": "code",
   "execution_count": 649,
   "id": "9283ca0e-bdd0-49d5-8ee1-0aec336a86e4",
   "metadata": {
    "scrolled": true
   },
   "outputs": [
    {
     "data": {
      "text/plain": [
       "array([[48010226.  ,    35000.  ,    35000.  ,       13.33,     1184.86,     9452.96],\n",
       "       [57693261.  ,    30000.  ,    30000.  , 68616520.  ,      938.57,     4679.7 ],\n",
       "       [59432726.  ,    15000.  ,    15000.  , 68616520.  ,      494.86,     1969.83],\n",
       "       ...,\n",
       "       [50415990.  ,    10000.  ,    10000.  , 68616520.  , 68616520.  ,     2185.64],\n",
       "       [46154151.  , 68616520.  ,    10000.  ,       16.55,      354.3 ,     3199.4 ],\n",
       "       [66055249.  ,    10000.  ,    10000.  , 68616520.  ,      309.97,      301.9 ]])"
      ]
     },
     "execution_count": 649,
     "metadata": {},
     "output_type": "execute_result"
    }
   ],
   "source": [
    "#Re-importing the Dataset, but only the numeric columns\n",
    "loan_data_numeric= np.genfromtxt('loan-data.csv',\n",
    "                                 delimiter= ';',\n",
    "                                 skip_header= 1,\n",
    "                                 autostrip= True,\n",
    "                                 usecols= columns_numeric,\n",
    "                                 encoding='windows-1251',\n",
    "                                 filling_values = temporary_fill ) #temporary_fill= np.nanmax(raw_data_np) + 1\n",
    "loan_data_numeric"
   ]
  },
  {
   "cell_type": "markdown",
   "id": "7e2c8d12-9334-4eb6-b5dd-6aa9922d721f",
   "metadata": {},
   "source": [
    "## The Names of the Columns"
   ]
  },
  {
   "cell_type": "code",
   "execution_count": 651,
   "id": "c5d93a27-cc90-4ada-a257-d90252935bd4",
   "metadata": {},
   "outputs": [
    {
     "data": {
      "text/plain": [
       "array(['id', 'issue_d', 'loan_amnt', 'loan_status', 'funded_amnt', 'term', 'int_rate',\n",
       "       'installment', 'grade', 'sub_grade', 'verification_status', 'url', 'addr_state',\n",
       "       'total_pymnt'], dtype='<U19')"
      ]
     },
     "execution_count": 651,
     "metadata": {},
     "output_type": "execute_result"
    }
   ],
   "source": [
    "header_full= np.genfromtxt('loan-data.csv',\n",
    "                           delimiter= ';',\n",
    "                           autostrip= True,\n",
    "                           skip_footer= raw_data_np.shape[0],\n",
    "                           encoding='windows-1251',\n",
    "                           dtype= 'str')\n",
    "header_full"
   ]
  },
  {
   "cell_type": "code",
   "execution_count": 652,
   "id": "41da4a56-cc5d-484a-b9b8-4a551d484869",
   "metadata": {},
   "outputs": [],
   "source": [
    "header_strings, header_numeric= header_full[columns_strings], header_full[columns_numeric]"
   ]
  },
  {
   "cell_type": "code",
   "execution_count": 653,
   "id": "702cf90d-92ad-4c59-9317-93346cc35b14",
   "metadata": {},
   "outputs": [
    {
     "data": {
      "text/plain": [
       "array(['issue_d', 'loan_status', 'term', 'grade', 'sub_grade', 'verification_status', 'url',\n",
       "       'addr_state'], dtype='<U19')"
      ]
     },
     "execution_count": 653,
     "metadata": {},
     "output_type": "execute_result"
    }
   ],
   "source": [
    "header_strings"
   ]
  },
  {
   "cell_type": "code",
   "execution_count": 654,
   "id": "da490c98-2852-4f0b-9e2b-af856ac25d9a",
   "metadata": {},
   "outputs": [
    {
     "data": {
      "text/plain": [
       "array(['id', 'loan_amnt', 'funded_amnt', 'int_rate', 'installment', 'total_pymnt'], dtype='<U19')"
      ]
     },
     "execution_count": 654,
     "metadata": {},
     "output_type": "execute_result"
    }
   ],
   "source": [
    "header_numeric"
   ]
  },
  {
   "cell_type": "markdown",
   "id": "98fc981a-27c3-4ab6-ada0-cd44d88beb41",
   "metadata": {},
   "source": [
    "## Creating Checkpoints"
   ]
  },
  {
   "cell_type": "code",
   "execution_count": 656,
   "id": "18a47b63-3371-43cf-8d49-7a4c9fec3736",
   "metadata": {},
   "outputs": [],
   "source": [
    "def checkpoint(file_name, checkpoint_header, checkpoint_data):\n",
    "    np.savez(file_name, header= checkpoint_header, data= checkpoint_data)\n",
    "    checkpoint_variable= np.load(file_name + '.npz')\n",
    "    return (checkpoint_variable)"
   ]
  },
  {
   "cell_type": "code",
   "execution_count": 657,
   "id": "063d1e08-ee6d-4e03-9315-5ad591558053",
   "metadata": {},
   "outputs": [],
   "source": [
    "checkpoint_test= checkpoint('checkpoint-test', header_strings, loan_data_strings)"
   ]
  },
  {
   "cell_type": "code",
   "execution_count": 658,
   "id": "f6972ec4-c8d2-4f2d-b030-befb32a4f018",
   "metadata": {},
   "outputs": [
    {
     "data": {
      "text/plain": [
       "array(['issue_d', 'loan_status', 'term', 'grade', 'sub_grade', 'verification_status', 'url',\n",
       "       'addr_state'], dtype='<U19')"
      ]
     },
     "execution_count": 658,
     "metadata": {},
     "output_type": "execute_result"
    }
   ],
   "source": [
    "checkpoint_test['header']"
   ]
  },
  {
   "cell_type": "code",
   "execution_count": 659,
   "id": "7fead0a0-f229-462d-bc78-4ba75fdf7687",
   "metadata": {},
   "outputs": [
    {
     "data": {
      "text/plain": [
       "array([['May-15', 'Current', '36 months', ..., 'Verified',\n",
       "        'https://www.lendingclub.com/browse/loanDetail.action?loan_id=48010226', 'CA'],\n",
       "       ['', 'Current', '36 months', ..., 'Source Verified',\n",
       "        'https://www.lendingclub.com/browse/loanDetail.action?loan_id=57693261', 'NY'],\n",
       "       ['Sep-15', 'Current', '36 months', ..., 'Verified',\n",
       "        'https://www.lendingclub.com/browse/loanDetail.action?loan_id=59432726', 'PA'],\n",
       "       ...,\n",
       "       ['Jun-15', 'Current', '36 months', ..., 'Source Verified',\n",
       "        'https://www.lendingclub.com/browse/loanDetail.action?loan_id=50415990', 'CA'],\n",
       "       ['Apr-15', 'Current', '36 months', ..., 'Source Verified',\n",
       "        'https://www.lendingclub.com/browse/loanDetail.action?loan_id=46154151', 'OH'],\n",
       "       ['Dec-15', 'Current', '36 months', ..., '',\n",
       "        'https://www.lendingclub.com/browse/loanDetail.action?loan_id=66055249', 'IL']],\n",
       "      dtype='<U69')"
      ]
     },
     "execution_count": 659,
     "metadata": {},
     "output_type": "execute_result"
    }
   ],
   "source": [
    "checkpoint_test['data']"
   ]
  },
  {
   "cell_type": "code",
   "execution_count": 660,
   "id": "0778b263-10a6-4d4e-a249-94395c1b8a3e",
   "metadata": {},
   "outputs": [
    {
     "data": {
      "text/plain": [
       "True"
      ]
     },
     "execution_count": 660,
     "metadata": {},
     "output_type": "execute_result"
    }
   ],
   "source": [
    "np.array_equal(checkpoint_test['data'], loan_data_strings) #to check and make sure if the data and the the one imported earlier are identical"
   ]
  },
  {
   "cell_type": "markdown",
   "id": "5cd3934b-ebaf-41d5-a708-3cf84c68c0de",
   "metadata": {},
   "source": [
    "## Manipulating String Columns"
   ]
  },
  {
   "cell_type": "code",
   "execution_count": 662,
   "id": "35177127-d6cb-4025-a6f7-2f84ad9c0aa3",
   "metadata": {},
   "outputs": [
    {
     "data": {
      "text/plain": [
       "array(['issue_d', 'loan_status', 'term', 'grade', 'sub_grade', 'verification_status', 'url',\n",
       "       'addr_state'], dtype='<U19')"
      ]
     },
     "execution_count": 662,
     "metadata": {},
     "output_type": "execute_result"
    }
   ],
   "source": [
    "header_strings"
   ]
  },
  {
   "cell_type": "code",
   "execution_count": 663,
   "id": "df528aae-dba0-4e3e-8aa3-6d4c1e929dcf",
   "metadata": {},
   "outputs": [],
   "source": [
    "header_strings[0]= 'issue_date'"
   ]
  },
  {
   "cell_type": "code",
   "execution_count": 664,
   "id": "7054b5ef-cd5b-4b0a-93c8-bba89dce4a91",
   "metadata": {},
   "outputs": [
    {
     "data": {
      "text/plain": [
       "array([['May-15', 'Current', '36 months', ..., 'Verified',\n",
       "        'https://www.lendingclub.com/browse/loanDetail.action?loan_id=48010226', 'CA'],\n",
       "       ['', 'Current', '36 months', ..., 'Source Verified',\n",
       "        'https://www.lendingclub.com/browse/loanDetail.action?loan_id=57693261', 'NY'],\n",
       "       ['Sep-15', 'Current', '36 months', ..., 'Verified',\n",
       "        'https://www.lendingclub.com/browse/loanDetail.action?loan_id=59432726', 'PA'],\n",
       "       ...,\n",
       "       ['Jun-15', 'Current', '36 months', ..., 'Source Verified',\n",
       "        'https://www.lendingclub.com/browse/loanDetail.action?loan_id=50415990', 'CA'],\n",
       "       ['Apr-15', 'Current', '36 months', ..., 'Source Verified',\n",
       "        'https://www.lendingclub.com/browse/loanDetail.action?loan_id=46154151', 'OH'],\n",
       "       ['Dec-15', 'Current', '36 months', ..., '',\n",
       "        'https://www.lendingclub.com/browse/loanDetail.action?loan_id=66055249', 'IL']],\n",
       "      dtype='<U69')"
      ]
     },
     "execution_count": 664,
     "metadata": {},
     "output_type": "execute_result"
    }
   ],
   "source": [
    "loan_data_strings"
   ]
  },
  {
   "cell_type": "markdown",
   "id": "00b08d2c-cd8e-4356-9753-f9605d84cce6",
   "metadata": {},
   "source": [
    "## Issue Date"
   ]
  },
  {
   "cell_type": "code",
   "execution_count": 666,
   "id": "02ec61c2-2bfa-4d96-95f2-9f8892c7fcbc",
   "metadata": {},
   "outputs": [
    {
     "data": {
      "text/plain": [
       "array(['May-15', '', 'Sep-15', ..., 'Jun-15', 'Apr-15', 'Dec-15'], dtype='<U69')"
      ]
     },
     "execution_count": 666,
     "metadata": {},
     "output_type": "execute_result"
    }
   ],
   "source": [
    "loan_data_strings[:,0] #the first column contains only the date with a specific pattern which is : Name of the Month - the year"
   ]
  },
  {
   "cell_type": "code",
   "execution_count": 667,
   "id": "a4bb7597-fdf9-4c39-987a-8afac806b285",
   "metadata": {},
   "outputs": [
    {
     "data": {
      "text/plain": [
       "array(['', 'Apr-15', 'Aug-15', 'Dec-15', 'Feb-15', 'Jan-15', 'Jul-15', 'Jun-15', 'Mar-15',\n",
       "       'May-15', 'Nov-15', 'Oct-15', 'Sep-15'], dtype='<U69')"
      ]
     },
     "execution_count": 667,
     "metadata": {},
     "output_type": "execute_result"
    }
   ],
   "source": [
    "np.unique(loan_data_strings[:,0]) #check for unique values"
   ]
  },
  {
   "cell_type": "code",
   "execution_count": 668,
   "id": "3f592609-7eaa-4844-b5cb-2c7f218db93b",
   "metadata": {},
   "outputs": [
    {
     "data": {
      "text/plain": [
       "chararray(['May', '', 'Sep', ..., 'Jun', 'Apr', 'Dec'], dtype='<U69')"
      ]
     },
     "execution_count": 668,
     "metadata": {},
     "output_type": "execute_result"
    }
   ],
   "source": [
    "np.chararray.strip(loan_data_strings[:,0], '-15')"
   ]
  },
  {
   "cell_type": "code",
   "execution_count": 669,
   "id": "deb60459-668d-4850-9fc6-86d518400ad5",
   "metadata": {},
   "outputs": [],
   "source": [
    "loan_data_strings[:,0]= np.chararray.strip(loan_data_strings[:,0], '-15')"
   ]
  },
  {
   "cell_type": "code",
   "execution_count": 670,
   "id": "034d1568-06ba-4636-b024-280e4c69deca",
   "metadata": {},
   "outputs": [
    {
     "data": {
      "text/plain": [
       "array(['', 'Apr', 'Aug', 'Dec', 'Feb', 'Jan', 'Jul', 'Jun', 'Mar', 'May', 'Nov', 'Oct', 'Sep'],\n",
       "      dtype='<U69')"
      ]
     },
     "execution_count": 670,
     "metadata": {},
     "output_type": "execute_result"
    }
   ],
   "source": [
    "np.unique(loan_data_strings[:,0])"
   ]
  },
  {
   "cell_type": "code",
   "execution_count": 671,
   "id": "a1c6e4a2-5cc5-4ee0-ac3f-0f7d2883bcb3",
   "metadata": {},
   "outputs": [],
   "source": [
    "months= np.array(['', 'Jan', 'Feb', 'Mar', 'Apr', 'May', 'Jun', 'Jul', 'Aug', 'Sep', 'Oct', 'Nov', 'Dec'])"
   ]
  },
  {
   "cell_type": "code",
   "execution_count": 672,
   "id": "bc0b5919-1a7d-4f1b-a76f-453f4c9d0d38",
   "metadata": {},
   "outputs": [],
   "source": [
    "for i in range(13):\n",
    "    loan_data_strings[:,0]= np.where(loan_data_strings[:,0]== months[i],\n",
    "                                     i,\n",
    "                                     loan_data_strings[:,0])"
   ]
  },
  {
   "cell_type": "code",
   "execution_count": 673,
   "id": "62f542ad-12c0-4d0b-96f8-84e232d5c2b1",
   "metadata": {
    "scrolled": true
   },
   "outputs": [
    {
     "data": {
      "text/plain": [
       "array(['0', '1', '10', '11', '12', '2', '3', '4', '5', '6', '7', '8', '9'], dtype='<U69')"
      ]
     },
     "execution_count": 673,
     "metadata": {},
     "output_type": "execute_result"
    }
   ],
   "source": [
    "np.unique(loan_data_strings[:,0])"
   ]
  },
  {
   "cell_type": "markdown",
   "id": "882b6045-d039-4d0d-b5a6-5db4cc820011",
   "metadata": {},
   "source": [
    "## Loan Status"
   ]
  },
  {
   "cell_type": "code",
   "execution_count": 675,
   "id": "3a916566-9e02-47c8-bd58-6aa90766abf7",
   "metadata": {},
   "outputs": [
    {
     "data": {
      "text/plain": [
       "array(['issue_date', 'loan_status', 'term', 'grade', 'sub_grade', 'verification_status', 'url',\n",
       "       'addr_state'], dtype='<U19')"
      ]
     },
     "execution_count": 675,
     "metadata": {},
     "output_type": "execute_result"
    }
   ],
   "source": [
    "header_strings"
   ]
  },
  {
   "cell_type": "code",
   "execution_count": 676,
   "id": "d5e2a5b6-b4dd-402b-9903-01a61a8310a9",
   "metadata": {},
   "outputs": [
    {
     "data": {
      "text/plain": [
       "array(['Current', 'Current', 'Current', ..., 'Current', 'Current', 'Current'], dtype='<U69')"
      ]
     },
     "execution_count": 676,
     "metadata": {},
     "output_type": "execute_result"
    }
   ],
   "source": [
    "loan_data_strings[:,1]"
   ]
  },
  {
   "cell_type": "code",
   "execution_count": 677,
   "id": "a5c601b5-a52d-4811-96df-694e218cb812",
   "metadata": {},
   "outputs": [
    {
     "data": {
      "text/plain": [
       "array(['', 'Charged Off', 'Current', 'Default', 'Fully Paid', 'In Grace Period', 'Issued',\n",
       "       'Late (16-30 days)', 'Late (31-120 days)'], dtype='<U69')"
      ]
     },
     "execution_count": 677,
     "metadata": {},
     "output_type": "execute_result"
    }
   ],
   "source": [
    "np.unique(loan_data_strings[:,1])"
   ]
  },
  {
   "cell_type": "code",
   "execution_count": 678,
   "id": "1a48899e-9b9b-4351-9736-4229c5169e93",
   "metadata": {},
   "outputs": [
    {
     "data": {
      "text/plain": [
       "9"
      ]
     },
     "execution_count": 678,
     "metadata": {},
     "output_type": "execute_result"
    }
   ],
   "source": [
    "np.unique(loan_data_strings[:,1]).size"
   ]
  },
  {
   "cell_type": "code",
   "execution_count": 679,
   "id": "d0f78087-3072-4fd4-8cbc-3e82e872ce40",
   "metadata": {},
   "outputs": [],
   "source": [
    "status_bad = np.array(['', 'Charged off', 'Default', 'Late (16-30 days)'])"
   ]
  },
  {
   "cell_type": "code",
   "execution_count": 680,
   "id": "cde322e9-25fd-4b2c-ba8a-0f845220325f",
   "metadata": {},
   "outputs": [],
   "source": [
    "loan_data_strings[:,1]= np.where(np.isin(loan_data_strings[:,1], status_bad), 0, 1)"
   ]
  },
  {
   "cell_type": "code",
   "execution_count": 681,
   "id": "b4b303c8-e6f4-40f1-8538-f60fc1d56fd0",
   "metadata": {},
   "outputs": [
    {
     "data": {
      "text/plain": [
       "array(['0', '1'], dtype='<U69')"
      ]
     },
     "execution_count": 681,
     "metadata": {},
     "output_type": "execute_result"
    }
   ],
   "source": [
    "np.unique(loan_data_strings[:,1])"
   ]
  },
  {
   "cell_type": "markdown",
   "id": "b08c5550-10bb-4fbd-9d0d-96a27b05def4",
   "metadata": {},
   "source": [
    "## Term"
   ]
  },
  {
   "cell_type": "code",
   "execution_count": 683,
   "id": "756b15e2-13a0-4ac8-823e-7fa553ef9449",
   "metadata": {},
   "outputs": [
    {
     "data": {
      "text/plain": [
       "array(['issue_date', 'loan_status', 'term', 'grade', 'sub_grade', 'verification_status', 'url',\n",
       "       'addr_state'], dtype='<U19')"
      ]
     },
     "execution_count": 683,
     "metadata": {},
     "output_type": "execute_result"
    }
   ],
   "source": [
    "header_strings"
   ]
  },
  {
   "cell_type": "code",
   "execution_count": 684,
   "id": "602df16a-4d2d-4491-99cb-c3d2fe806100",
   "metadata": {},
   "outputs": [
    {
     "data": {
      "text/plain": [
       "array(['36 months', '36 months', '36 months', ..., '36 months', '36 months', '36 months'],\n",
       "      dtype='<U69')"
      ]
     },
     "execution_count": 684,
     "metadata": {},
     "output_type": "execute_result"
    }
   ],
   "source": [
    "loan_data_strings[:,2]"
   ]
  },
  {
   "cell_type": "code",
   "execution_count": 685,
   "id": "083c81f6-caa5-4615-b034-85aa723092b8",
   "metadata": {},
   "outputs": [
    {
     "data": {
      "text/plain": [
       "array(['', '36 months', '60 months'], dtype='<U69')"
      ]
     },
     "execution_count": 685,
     "metadata": {},
     "output_type": "execute_result"
    }
   ],
   "source": [
    "np.unique(loan_data_strings[:,2])"
   ]
  },
  {
   "cell_type": "code",
   "execution_count": 686,
   "id": "74c3cfe8-b920-4b89-81fb-d9edc1d96e0f",
   "metadata": {},
   "outputs": [
    {
     "data": {
      "text/plain": [
       "array(['36', '36', '36', ..., '36', '36', '36'], dtype='<U69')"
      ]
     },
     "execution_count": 686,
     "metadata": {},
     "output_type": "execute_result"
    }
   ],
   "source": [
    "loan_data_strings[:,2]= np.chararray.strip(loan_data_strings[:,2], ' months')\n",
    "loan_data_strings[:,2]"
   ]
  },
  {
   "cell_type": "code",
   "execution_count": 687,
   "id": "2e6b883c-eb59-4a46-b33c-7b2be3e62a11",
   "metadata": {},
   "outputs": [],
   "source": [
    "header_strings[2]= 'term_months'"
   ]
  },
  {
   "cell_type": "code",
   "execution_count": 688,
   "id": "a1aa466d-ae58-4c4a-b998-68aee1d480a5",
   "metadata": {},
   "outputs": [
    {
     "data": {
      "text/plain": [
       "array(['issue_date', 'loan_status', 'term_months', 'grade', 'sub_grade', 'verification_status',\n",
       "       'url', 'addr_state'], dtype='<U19')"
      ]
     },
     "execution_count": 688,
     "metadata": {},
     "output_type": "execute_result"
    }
   ],
   "source": [
    "header_strings"
   ]
  },
  {
   "cell_type": "code",
   "execution_count": 689,
   "id": "34d14305-4eaf-4c8b-b7ef-81b4700d3879",
   "metadata": {},
   "outputs": [
    {
     "data": {
      "text/plain": [
       "array(['36', '36', '36', ..., '36', '36', '36'], dtype='<U69')"
      ]
     },
     "execution_count": 689,
     "metadata": {},
     "output_type": "execute_result"
    }
   ],
   "source": [
    "loan_data_strings[:,2]= np.where(loan_data_strings[:,2] == '',\n",
    "                                '60',\n",
    "                                loan_data_strings[:,2])\n",
    "loan_data_strings[:,2]"
   ]
  },
  {
   "cell_type": "code",
   "execution_count": 690,
   "id": "adbce044-72c5-403e-bacf-b509a2ef7bed",
   "metadata": {},
   "outputs": [
    {
     "data": {
      "text/plain": [
       "array(['36', '60'], dtype='<U69')"
      ]
     },
     "execution_count": 690,
     "metadata": {},
     "output_type": "execute_result"
    }
   ],
   "source": [
    "np.unique(loan_data_strings[:,2])"
   ]
  },
  {
   "cell_type": "markdown",
   "id": "1229e15f-3ba2-4eed-9d70-ecc1f6280496",
   "metadata": {},
   "source": [
    "## Checkpoint"
   ]
  },
  {
   "cell_type": "code",
   "execution_count": 692,
   "id": "1ae0ed79-cf85-4645-a376-0ef42afb8409",
   "metadata": {},
   "outputs": [],
   "source": [
    "def checkpoint(file_name, checkpoint_header, checkpoint_data):\n",
    "    np.savez(file_name, header= checkpoint_header, data= checkpoint_data)\n",
    "    checkpoint_variable= np.load(file_name + '.npz')\n",
    "    return (checkpoint_variable)"
   ]
  },
  {
   "cell_type": "code",
   "execution_count": 693,
   "id": "4ecc2b9a-4cd2-4f23-96a9-5f1a46dcb3d5",
   "metadata": {},
   "outputs": [],
   "source": [
    "checkpoint_test= checkpoint('checkpoint-test', header_strings, loan_data_strings)"
   ]
  },
  {
   "cell_type": "code",
   "execution_count": 694,
   "id": "c228a032-f743-417f-a6c4-7c8a699f50db",
   "metadata": {},
   "outputs": [
    {
     "data": {
      "text/plain": [
       "array(['issue_date', 'loan_status', 'term_months', 'grade', 'sub_grade', 'verification_status',\n",
       "       'url', 'addr_state'], dtype='<U19')"
      ]
     },
     "execution_count": 694,
     "metadata": {},
     "output_type": "execute_result"
    }
   ],
   "source": [
    "checkpoint_test['header']"
   ]
  },
  {
   "cell_type": "markdown",
   "id": "3a59b857-1da2-41bc-b7d0-a94e3d474ff6",
   "metadata": {},
   "source": [
    "## Grade and Subgrade"
   ]
  },
  {
   "cell_type": "code",
   "execution_count": 696,
   "id": "1c367521-d006-4e89-bc2a-240938ad38f2",
   "metadata": {},
   "outputs": [
    {
     "data": {
      "text/plain": [
       "array(['issue_date', 'loan_status', 'term_months', 'grade', 'sub_grade', 'verification_status',\n",
       "       'url', 'addr_state'], dtype='<U19')"
      ]
     },
     "execution_count": 696,
     "metadata": {},
     "output_type": "execute_result"
    }
   ],
   "source": [
    "header_strings"
   ]
  },
  {
   "cell_type": "code",
   "execution_count": 697,
   "id": "93d30409-afb3-4f16-b302-e1d34b4327e3",
   "metadata": {},
   "outputs": [
    {
     "data": {
      "text/plain": [
       "array(['C', 'A', 'B', ..., 'A', 'D', 'A'], dtype='<U69')"
      ]
     },
     "execution_count": 697,
     "metadata": {},
     "output_type": "execute_result"
    }
   ],
   "source": [
    "loan_data_strings[:,3] #display the column content"
   ]
  },
  {
   "cell_type": "code",
   "execution_count": 698,
   "id": "73005cd5-9711-4e5c-bc1a-f800f451d2b4",
   "metadata": {},
   "outputs": [
    {
     "data": {
      "text/plain": [
       "array(['', 'A', 'B', 'C', 'D', 'E', 'F', 'G'], dtype='<U69')"
      ]
     },
     "execution_count": 698,
     "metadata": {},
     "output_type": "execute_result"
    }
   ],
   "source": [
    "np.unique(loan_data_strings[:,3]) #This line to improve the understanding of the column content"
   ]
  },
  {
   "cell_type": "code",
   "execution_count": 699,
   "id": "1e9c82d0-c0a3-4da5-b437-c830751d38fe",
   "metadata": {},
   "outputs": [
    {
     "data": {
      "text/plain": [
       "array(['C3', 'A5', 'B5', ..., 'A5', 'D2', 'A4'], dtype='<U69')"
      ]
     },
     "execution_count": 699,
     "metadata": {},
     "output_type": "execute_result"
    }
   ],
   "source": [
    "loan_data_strings[:,4] #display the column content, because it is related to 'grade' column"
   ]
  },
  {
   "cell_type": "code",
   "execution_count": 700,
   "id": "ff86224d-ae07-43c8-95a7-cc23e6f3207e",
   "metadata": {},
   "outputs": [
    {
     "data": {
      "text/plain": [
       "array(['', 'A1', 'A2', 'A3', 'A4', 'A5', 'B1', 'B2', 'B3', 'B4', 'B5', 'C1', 'C2', 'C3', 'C4',\n",
       "       'C5', 'D1', 'D2', 'D3', 'D4', 'D5', 'E1', 'E2', 'E3', 'E4', 'E5', 'F1', 'F2', 'F3', 'F4',\n",
       "       'F5', 'G1', 'G2', 'G3', 'G4', 'G5'], dtype='<U69')"
      ]
     },
     "execution_count": 700,
     "metadata": {},
     "output_type": "execute_result"
    }
   ],
   "source": [
    "np.unique(loan_data_strings[:,4]) #This line to improve the understanding of the column content"
   ]
  },
  {
   "cell_type": "markdown",
   "id": "256b4bd5-f6c0-4c61-9f22-30ed3d4b7d8f",
   "metadata": {},
   "source": [
    "## Filling Sub Grade"
   ]
  },
  {
   "cell_type": "code",
   "execution_count": 702,
   "id": "1586c572-a11b-4bbb-8f70-f727ca588a75",
   "metadata": {},
   "outputs": [],
   "source": [
    "for i in np.unique(loan_data_strings[:,3])[1:]:\n",
    "    loan_data_strings[:,4]= np.where((loan_data_strings[:,4] == '') & (loan_data_strings[:,3] == i),\n",
    "                                     i + '5',\n",
    "                                     loan_data_strings[:,4])"
   ]
  },
  {
   "cell_type": "code",
   "execution_count": 703,
   "id": "8566828f-3498-4cd5-8154-e80154de3c44",
   "metadata": {},
   "outputs": [
    {
     "data": {
      "text/plain": [
       "array(['', 'A1', 'A2', 'A3', 'A4', 'A5', 'B1', 'B2', 'B3', 'B4', 'B5', 'C1', 'C2', 'C3', 'C4',\n",
       "       'C5', 'D1', 'D2', 'D3', 'D4', 'D5', 'E1', 'E2', 'E3', 'E4', 'E5', 'F1', 'F2', 'F3', 'F4',\n",
       "       'F5', 'G1', 'G2', 'G3', 'G4', 'G5'], dtype='<U69')"
      ]
     },
     "execution_count": 703,
     "metadata": {},
     "output_type": "execute_result"
    }
   ],
   "source": [
    "np.unique(loan_data_strings[:,4])"
   ]
  },
  {
   "cell_type": "code",
   "execution_count": 704,
   "id": "a0144c34-ecf8-491f-9a89-9032e94bf331",
   "metadata": {},
   "outputs": [
    {
     "data": {
      "text/plain": [
       "(array(['', 'A1', 'A2', 'A3', 'A4', 'A5', 'B1', 'B2', 'B3', 'B4', 'B5', 'C1', 'C2', 'C3', 'C4',\n",
       "        'C5', 'D1', 'D2', 'D3', 'D4', 'D5', 'E1', 'E2', 'E3', 'E4', 'E5', 'F1', 'F2', 'F3', 'F4',\n",
       "        'F5', 'G1', 'G2', 'G3', 'G4', 'G5'], dtype='<U69'),\n",
       " array([  9, 285, 278, 239, 323, 592, 509, 517, 530, 553, 633, 629, 567, 586, 564, 577, 391, 267,\n",
       "        250, 255, 288, 235, 162, 171, 139, 160,  94,  52,  34,  43,  24,  19,  10,   3,   7,   5]))"
      ]
     },
     "execution_count": 704,
     "metadata": {},
     "output_type": "execute_result"
    }
   ],
   "source": [
    "np.unique(loan_data_strings[:,4], return_counts= True)"
   ]
  },
  {
   "cell_type": "code",
   "execution_count": 705,
   "id": "2b3f75cb-1233-4dde-9121-60f1a1d8fc36",
   "metadata": {},
   "outputs": [],
   "source": [
    "loan_data_strings[:,4]= np.where(loan_data_strings[:,4] == '',\n",
    "                                 'H1',\n",
    "                                 loan_data_strings[:,4])"
   ]
  },
  {
   "cell_type": "code",
   "execution_count": 706,
   "id": "f23b19e7-9800-496c-8255-fcfc78ba6455",
   "metadata": {},
   "outputs": [
    {
     "data": {
      "text/plain": [
       "array(['A1', 'A2', 'A3', 'A4', 'A5', 'B1', 'B2', 'B3', 'B4', 'B5', 'C1', 'C2', 'C3', 'C4', 'C5',\n",
       "       'D1', 'D2', 'D3', 'D4', 'D5', 'E1', 'E2', 'E3', 'E4', 'E5', 'F1', 'F2', 'F3', 'F4', 'F5',\n",
       "       'G1', 'G2', 'G3', 'G4', 'G5', 'H1'], dtype='<U69')"
      ]
     },
     "execution_count": 706,
     "metadata": {},
     "output_type": "execute_result"
    }
   ],
   "source": [
    "np.unique(loan_data_strings[:,4])"
   ]
  },
  {
   "cell_type": "markdown",
   "id": "4cd86933-fef6-4990-88f0-2a02ceac7b15",
   "metadata": {},
   "source": [
    "## Removing Grade"
   ]
  },
  {
   "cell_type": "code",
   "execution_count": 708,
   "id": "c5d17578-a405-4b1d-88b9-f9a3f6a357e9",
   "metadata": {},
   "outputs": [],
   "source": [
    "loan_data_strings= np.delete(loan_data_strings, 3, axis=1)"
   ]
  },
  {
   "cell_type": "code",
   "execution_count": 709,
   "id": "31e89929-aa70-4012-9d59-b80460624ecd",
   "metadata": {},
   "outputs": [
    {
     "data": {
      "text/plain": [
       "array(['C3', 'A5', 'B5', ..., 'A5', 'D2', 'A4'], dtype='<U69')"
      ]
     },
     "execution_count": 709,
     "metadata": {},
     "output_type": "execute_result"
    }
   ],
   "source": [
    "loan_data_strings[:,3]"
   ]
  },
  {
   "cell_type": "code",
   "execution_count": 710,
   "id": "1d6d53b8-e3c2-49d8-88b8-59ab8eed4f33",
   "metadata": {},
   "outputs": [],
   "source": [
    "header_strings= np.delete(header_strings, 3)"
   ]
  },
  {
   "cell_type": "code",
   "execution_count": 711,
   "id": "26e5a466-b146-4f10-a93c-53cdfbc97f5a",
   "metadata": {},
   "outputs": [
    {
     "data": {
      "text/plain": [
       "'sub_grade'"
      ]
     },
     "execution_count": 711,
     "metadata": {},
     "output_type": "execute_result"
    }
   ],
   "source": [
    "header_strings[3]"
   ]
  },
  {
   "cell_type": "markdown",
   "id": "3ba3a424-ff1d-4cea-be08-3dd2240e30a4",
   "metadata": {},
   "source": [
    "## Converting Sub Grade"
   ]
  },
  {
   "cell_type": "code",
   "execution_count": 713,
   "id": "608e6c01-749d-4415-83ab-43cfad783df2",
   "metadata": {},
   "outputs": [
    {
     "data": {
      "text/plain": [
       "array(['A1', 'A2', 'A3', 'A4', 'A5', 'B1', 'B2', 'B3', 'B4', 'B5', 'C1', 'C2', 'C3', 'C4', 'C5',\n",
       "       'D1', 'D2', 'D3', 'D4', 'D5', 'E1', 'E2', 'E3', 'E4', 'E5', 'F1', 'F2', 'F3', 'F4', 'F5',\n",
       "       'G1', 'G2', 'G3', 'G4', 'G5', 'H1'], dtype='<U69')"
      ]
     },
     "execution_count": 713,
     "metadata": {},
     "output_type": "execute_result"
    }
   ],
   "source": [
    "np.unique(loan_data_strings[:,3])"
   ]
  },
  {
   "cell_type": "code",
   "execution_count": 714,
   "id": "59e683df-a75e-4457-848c-264fb20d9266",
   "metadata": {},
   "outputs": [],
   "source": [
    "keys= list(np.unique(loan_data_strings[:,3]))\n",
    "values= list(range(1, np.unique(loan_data_strings[:,3]).shape[0] + 1))\n",
    "dict_sub_grade= dict(zip(keys, values))"
   ]
  },
  {
   "cell_type": "code",
   "execution_count": 715,
   "id": "058c656c-fb24-48ed-99be-197c0640521f",
   "metadata": {},
   "outputs": [
    {
     "data": {
      "text/plain": [
       "{'A1': 1,\n",
       " 'A2': 2,\n",
       " 'A3': 3,\n",
       " 'A4': 4,\n",
       " 'A5': 5,\n",
       " 'B1': 6,\n",
       " 'B2': 7,\n",
       " 'B3': 8,\n",
       " 'B4': 9,\n",
       " 'B5': 10,\n",
       " 'C1': 11,\n",
       " 'C2': 12,\n",
       " 'C3': 13,\n",
       " 'C4': 14,\n",
       " 'C5': 15,\n",
       " 'D1': 16,\n",
       " 'D2': 17,\n",
       " 'D3': 18,\n",
       " 'D4': 19,\n",
       " 'D5': 20,\n",
       " 'E1': 21,\n",
       " 'E2': 22,\n",
       " 'E3': 23,\n",
       " 'E4': 24,\n",
       " 'E5': 25,\n",
       " 'F1': 26,\n",
       " 'F2': 27,\n",
       " 'F3': 28,\n",
       " 'F4': 29,\n",
       " 'F5': 30,\n",
       " 'G1': 31,\n",
       " 'G2': 32,\n",
       " 'G3': 33,\n",
       " 'G4': 34,\n",
       " 'G5': 35,\n",
       " 'H1': 36}"
      ]
     },
     "execution_count": 715,
     "metadata": {},
     "output_type": "execute_result"
    }
   ],
   "source": [
    "dict_sub_grade"
   ]
  },
  {
   "cell_type": "code",
   "execution_count": 716,
   "id": "96bc4288-7802-49d7-ac45-d43ae9c2fefe",
   "metadata": {},
   "outputs": [],
   "source": [
    "#iterate trough all unique sub-grade and substitute each one with its associated numeric value\n",
    "for i in np.unique(loan_data_strings[:,3]):\n",
    "    loan_data_strings[:,3]= np.where(loan_data_strings[:,3] == i,\n",
    "                                     dict_sub_grade[i],\n",
    "                                     loan_data_strings[:,3])"
   ]
  },
  {
   "cell_type": "code",
   "execution_count": 717,
   "id": "2c3817a9-0e1c-44e9-95e1-0d126aa021fa",
   "metadata": {},
   "outputs": [
    {
     "data": {
      "text/plain": [
       "array(['1', '10', '11', '12', '13', '14', '15', '16', '17', '18', '19', '2', '20', '21', '22',\n",
       "       '23', '24', '25', '26', '27', '28', '29', '3', '30', '31', '32', '33', '34', '35', '36',\n",
       "       '4', '5', '6', '7', '8', '9'], dtype='<U69')"
      ]
     },
     "execution_count": 717,
     "metadata": {},
     "output_type": "execute_result"
    }
   ],
   "source": [
    "np.unique(loan_data_strings[:,3])"
   ]
  },
  {
   "cell_type": "code",
   "execution_count": 718,
   "id": "ea62d520-cea8-42ca-9cb3-4fbd762f2300",
   "metadata": {},
   "outputs": [],
   "source": [
    "checkpoint_test= checkpoint('checkpoint-test', header_strings, loan_data_strings)"
   ]
  },
  {
   "cell_type": "code",
   "execution_count": 719,
   "id": "838cafcb-3d10-4a78-9609-4782d973db0d",
   "metadata": {},
   "outputs": [
    {
     "data": {
      "text/plain": [
       "array(['issue_date', 'loan_status', 'term_months', 'sub_grade', 'verification_status', 'url',\n",
       "       'addr_state'], dtype='<U19')"
      ]
     },
     "execution_count": 719,
     "metadata": {},
     "output_type": "execute_result"
    }
   ],
   "source": [
    "checkpoint_test['header']"
   ]
  },
  {
   "cell_type": "markdown",
   "id": "93a92fc8-6d4d-456d-b01b-477a849d6989",
   "metadata": {},
   "source": [
    "## Verification Status"
   ]
  },
  {
   "cell_type": "code",
   "execution_count": 721,
   "id": "b5dc12ca-8929-44ec-95c3-2d008a7c5a39",
   "metadata": {},
   "outputs": [
    {
     "data": {
      "text/plain": [
       "array(['issue_date', 'loan_status', 'term_months', 'sub_grade', 'verification_status', 'url',\n",
       "       'addr_state'], dtype='<U19')"
      ]
     },
     "execution_count": 721,
     "metadata": {},
     "output_type": "execute_result"
    }
   ],
   "source": [
    "header_strings"
   ]
  },
  {
   "cell_type": "code",
   "execution_count": 722,
   "id": "1dbe56dd-1454-438f-8d3f-e92e633444c2",
   "metadata": {},
   "outputs": [
    {
     "data": {
      "text/plain": [
       "array(['Verified', 'Source Verified', 'Verified', ..., 'Source Verified', 'Source Verified', ''],\n",
       "      dtype='<U69')"
      ]
     },
     "execution_count": 722,
     "metadata": {},
     "output_type": "execute_result"
    }
   ],
   "source": [
    "loan_data_strings[:,4]"
   ]
  },
  {
   "cell_type": "code",
   "execution_count": 723,
   "id": "92aececb-d0b7-4fb1-84ef-025b56d9dbae",
   "metadata": {},
   "outputs": [
    {
     "data": {
      "text/plain": [
       "array(['', 'Not Verified', 'Source Verified', 'Verified'], dtype='<U69')"
      ]
     },
     "execution_count": 723,
     "metadata": {},
     "output_type": "execute_result"
    }
   ],
   "source": [
    "np.unique(loan_data_strings[:,4])"
   ]
  },
  {
   "cell_type": "code",
   "execution_count": 724,
   "id": "8ac179c3-a2e1-455d-bec3-a1d5261dbe0b",
   "metadata": {},
   "outputs": [],
   "source": [
    "loan_data_strings[:,4]= np.where((loan_data_strings[:,4] == '')| (loan_data_strings[:,4] == 'Not Verified'), 0, 1)"
   ]
  },
  {
   "cell_type": "code",
   "execution_count": 725,
   "id": "1e5c176f-d202-4268-82b5-6d5ba8bd112f",
   "metadata": {},
   "outputs": [
    {
     "data": {
      "text/plain": [
       "array(['0', '1'], dtype='<U69')"
      ]
     },
     "execution_count": 725,
     "metadata": {},
     "output_type": "execute_result"
    }
   ],
   "source": [
    "np.unique(loan_data_strings[:,4])"
   ]
  },
  {
   "cell_type": "markdown",
   "id": "93278d09-2fb0-4721-80d0-9cfa5fa55512",
   "metadata": {},
   "source": [
    "## URL"
   ]
  },
  {
   "cell_type": "code",
   "execution_count": 727,
   "id": "31681a36-c495-460c-8583-bbcdac22ddf3",
   "metadata": {},
   "outputs": [
    {
     "data": {
      "text/plain": [
       "array(['issue_date', 'loan_status', 'term_months', 'sub_grade', 'verification_status', 'url',\n",
       "       'addr_state'], dtype='<U19')"
      ]
     },
     "execution_count": 727,
     "metadata": {},
     "output_type": "execute_result"
    }
   ],
   "source": [
    "header_strings"
   ]
  },
  {
   "cell_type": "code",
   "execution_count": 728,
   "id": "470de2aa-3d4b-4563-b2f2-329cdbb7214f",
   "metadata": {},
   "outputs": [
    {
     "data": {
      "text/plain": [
       "array(['https://www.lendingclub.com/browse/loanDetail.action?loan_id=48010226',\n",
       "       'https://www.lendingclub.com/browse/loanDetail.action?loan_id=57693261',\n",
       "       'https://www.lendingclub.com/browse/loanDetail.action?loan_id=59432726', ...,\n",
       "       'https://www.lendingclub.com/browse/loanDetail.action?loan_id=50415990',\n",
       "       'https://www.lendingclub.com/browse/loanDetail.action?loan_id=46154151',\n",
       "       'https://www.lendingclub.com/browse/loanDetail.action?loan_id=66055249'], dtype='<U69')"
      ]
     },
     "execution_count": 728,
     "metadata": {},
     "output_type": "execute_result"
    }
   ],
   "source": [
    "loan_data_strings[:,5]"
   ]
  },
  {
   "cell_type": "code",
   "execution_count": 729,
   "id": "80ef4fe4-8c3e-4246-839a-01087d5a3019",
   "metadata": {},
   "outputs": [
    {
     "data": {
      "text/plain": [
       "array(['https://www.lendingclub.com/browse/loanDetail.action?loan_id=12606806',\n",
       "       'https://www.lendingclub.com/browse/loanDetail.action?loan_id=13026045',\n",
       "       'https://www.lendingclub.com/browse/loanDetail.action?loan_id=1312426', ...,\n",
       "       'https://www.lendingclub.com/browse/loanDetail.action?loan_id=8138291',\n",
       "       'https://www.lendingclub.com/browse/loanDetail.action?loan_id=8214572',\n",
       "       'https://www.lendingclub.com/browse/loanDetail.action?loan_id=849994'], dtype='<U69')"
      ]
     },
     "execution_count": 729,
     "metadata": {},
     "output_type": "execute_result"
    }
   ],
   "source": [
    "np.unique(loan_data_strings[:,5])"
   ]
  },
  {
   "cell_type": "code",
   "execution_count": 730,
   "id": "ce907004-be4b-41bb-b402-7ec411523233",
   "metadata": {},
   "outputs": [
    {
     "data": {
      "text/plain": [
       "chararray(['48010226', '57693261', '59432726', ..., '50415990', '46154151', '66055249'],\n",
       "          dtype='<U69')"
      ]
     },
     "execution_count": 730,
     "metadata": {},
     "output_type": "execute_result"
    }
   ],
   "source": [
    "np.chararray.strip(loan_data_strings[:,5], 'https://www.lendingclub.com/browse/loanDetail.action?loan_id=')"
   ]
  },
  {
   "cell_type": "code",
   "execution_count": 731,
   "id": "f75325c3-cff0-479e-806f-9a648885cd33",
   "metadata": {},
   "outputs": [],
   "source": [
    "loan_data_strings[:,5]= np.chararray.strip(loan_data_strings[:,5], 'https://www.lendingclub.com/browse/loanDetail.action?loan_id=')"
   ]
  },
  {
   "cell_type": "code",
   "execution_count": 732,
   "id": "a54e6b61-b143-406c-aa4d-62e3826d0483",
   "metadata": {},
   "outputs": [
    {
     "data": {
      "text/plain": [
       "array(['id', 'issue_d', 'loan_amnt', 'loan_status', 'funded_amnt', 'term', 'int_rate',\n",
       "       'installment', 'grade', 'sub_grade', 'verification_status', 'url', 'addr_state',\n",
       "       'total_pymnt'], dtype='<U19')"
      ]
     },
     "execution_count": 732,
     "metadata": {},
     "output_type": "execute_result"
    }
   ],
   "source": [
    "header_full"
   ]
  },
  {
   "cell_type": "code",
   "execution_count": 733,
   "id": "627a525c-3b24-4015-ba46-4da3eec6e7cc",
   "metadata": {},
   "outputs": [
    {
     "data": {
      "text/plain": [
       "array([48010226., 57693261., 59432726., ..., 50415990., 46154151., 66055249.])"
      ]
     },
     "execution_count": 733,
     "metadata": {},
     "output_type": "execute_result"
    }
   ],
   "source": [
    "loan_data_numeric[:,0]"
   ]
  },
  {
   "cell_type": "code",
   "execution_count": 734,
   "id": "bfb19676-f14f-4448-b336-a4c6e1b80093",
   "metadata": {},
   "outputs": [
    {
     "data": {
      "text/plain": [
       "array(['48010226', '57693261', '59432726', ..., '50415990', '46154151', '66055249'], dtype='<U69')"
      ]
     },
     "execution_count": 734,
     "metadata": {},
     "output_type": "execute_result"
    }
   ],
   "source": [
    "loan_data_strings[:,5]"
   ]
  },
  {
   "cell_type": "code",
   "execution_count": 735,
   "id": "e24ab13a-a06b-4e0d-b292-5f6da963c18c",
   "metadata": {},
   "outputs": [
    {
     "data": {
      "text/plain": [
       "array([48010226, 57693261, 59432726, ..., 50415990, 46154151, 66055249], dtype=int32)"
      ]
     },
     "execution_count": 735,
     "metadata": {},
     "output_type": "execute_result"
    }
   ],
   "source": [
    "loan_data_numeric[:,0].astype(dtype= 'int32')"
   ]
  },
  {
   "cell_type": "code",
   "execution_count": 736,
   "id": "37b406a0-6da7-41de-97f5-072f98327fbc",
   "metadata": {},
   "outputs": [
    {
     "data": {
      "text/plain": [
       "array([48010226, 57693261, 59432726, ..., 50415990, 46154151, 66055249], dtype=int32)"
      ]
     },
     "execution_count": 736,
     "metadata": {},
     "output_type": "execute_result"
    }
   ],
   "source": [
    "loan_data_strings[:,5].astype(dtype= 'int32')"
   ]
  },
  {
   "cell_type": "code",
   "execution_count": 737,
   "id": "979830ec-f3c7-40e2-97ad-84fb4b53a0a2",
   "metadata": {},
   "outputs": [
    {
     "data": {
      "text/plain": [
       "True"
      ]
     },
     "execution_count": 737,
     "metadata": {},
     "output_type": "execute_result"
    }
   ],
   "source": [
    "np.array_equal(loan_data_numeric[:,0].astype(dtype= 'int32'), loan_data_strings[:,5].astype(dtype= 'int32'))"
   ]
  },
  {
   "cell_type": "code",
   "execution_count": 738,
   "id": "03ce10f4-917f-4b26-a49b-8a51ab9ac620",
   "metadata": {},
   "outputs": [],
   "source": [
    "loan_data_strings= np.delete(loan_data_strings, 5, axis=1)\n",
    "header_strings= np.delete(header_strings, 5)"
   ]
  },
  {
   "cell_type": "code",
   "execution_count": 739,
   "id": "3cf708c1-8ef0-49dc-a50a-164db145417f",
   "metadata": {},
   "outputs": [
    {
     "data": {
      "text/plain": [
       "array(['issue_date', 'loan_status', 'term_months', 'sub_grade', 'verification_status',\n",
       "       'addr_state'], dtype='<U19')"
      ]
     },
     "execution_count": 739,
     "metadata": {},
     "output_type": "execute_result"
    }
   ],
   "source": [
    "header_strings"
   ]
  },
  {
   "cell_type": "markdown",
   "id": "cf716785-e07f-460f-bfbb-105cc2de30cc",
   "metadata": {},
   "source": [
    "## State Address"
   ]
  },
  {
   "cell_type": "code",
   "execution_count": 741,
   "id": "9619af53-c781-4c13-bd52-0da551b6f45c",
   "metadata": {},
   "outputs": [
    {
     "data": {
      "text/plain": [
       "array(['issue_date', 'loan_status', 'term_months', 'sub_grade', 'verification_status',\n",
       "       'addr_state'], dtype='<U19')"
      ]
     },
     "execution_count": 741,
     "metadata": {},
     "output_type": "execute_result"
    }
   ],
   "source": [
    "header_strings"
   ]
  },
  {
   "cell_type": "code",
   "execution_count": 742,
   "id": "10015a6d-cd1a-4a5e-8914-bceac4a496df",
   "metadata": {},
   "outputs": [],
   "source": [
    "header_strings[5]= 'state_address'"
   ]
  },
  {
   "cell_type": "code",
   "execution_count": 743,
   "id": "c8c2709c-e3f3-442a-ba33-54e3fdbf20f6",
   "metadata": {},
   "outputs": [
    {
     "data": {
      "text/plain": [
       "array(['CA', 'NY', 'PA', ..., 'CA', 'OH', 'IL'], dtype='<U69')"
      ]
     },
     "execution_count": 743,
     "metadata": {},
     "output_type": "execute_result"
    }
   ],
   "source": [
    "loan_data_strings[:,5]"
   ]
  },
  {
   "cell_type": "code",
   "execution_count": 744,
   "id": "d24276cf-f3ba-4c57-ac75-4a7b8182c88d",
   "metadata": {},
   "outputs": [
    {
     "data": {
      "text/plain": [
       "array(['', 'AK', 'AL', 'AR', 'AZ', 'CA', 'CO', 'CT', 'DC', 'DE', 'FL', 'GA', 'HI', 'IL', 'IN',\n",
       "       'KS', 'KY', 'LA', 'MA', 'MD', 'ME', 'MI', 'MN', 'MO', 'MS', 'MT', 'NC', 'ND', 'NE', 'NH',\n",
       "       'NJ', 'NM', 'NV', 'NY', 'OH', 'OK', 'OR', 'PA', 'RI', 'SC', 'SD', 'TN', 'TX', 'UT', 'VA',\n",
       "       'VT', 'WA', 'WI', 'WV', 'WY'], dtype='<U69')"
      ]
     },
     "execution_count": 744,
     "metadata": {},
     "output_type": "execute_result"
    }
   ],
   "source": [
    "np.unique(loan_data_strings[:,5]) #check unique values, and find out there is one missing"
   ]
  },
  {
   "cell_type": "code",
   "execution_count": 745,
   "id": "fd9fd171-79d9-4ac7-9c3d-ad21978455e7",
   "metadata": {},
   "outputs": [
    {
     "data": {
      "text/plain": [
       "(array(['', 'AK', 'AL', 'AR', 'AZ', 'CA', 'CO', 'CT', 'DC', 'DE', 'FL', 'GA', 'HI', 'IL', 'IN',\n",
       "        'KS', 'KY', 'LA', 'MA', 'MD', 'ME', 'MI', 'MN', 'MO', 'MS', 'MT', 'NC', 'ND', 'NE', 'NH',\n",
       "        'NJ', 'NM', 'NV', 'NY', 'OH', 'OK', 'OR', 'PA', 'RI', 'SC', 'SD', 'TN', 'TX', 'UT', 'VA',\n",
       "        'VT', 'WA', 'WI', 'WV', 'WY'], dtype='<U69'),\n",
       " array([ 500,   26,  119,   74,  220, 1336,  201,  143,   27,   27,  690,  321,   44,  389,  152,\n",
       "          84,   84,  116,  210,  222,   10,  267,  156,  160,   61,   28,  261,   16,   25,   58,\n",
       "         341,   57,  130,  777,  312,   83,  108,  320,   40,  107,   24,  143,  758,   74,  242,\n",
       "          17,  216,  148,   49,   27]))"
      ]
     },
     "execution_count": 745,
     "metadata": {},
     "output_type": "execute_result"
    }
   ],
   "source": [
    "np.unique(loan_data_strings[:,5], return_counts= True) #check how many times a state is repeated"
   ]
  },
  {
   "cell_type": "code",
   "execution_count": 746,
   "id": "0fae7701-c743-44b7-8256-af2d94fb5fd7",
   "metadata": {},
   "outputs": [
    {
     "data": {
      "text/plain": [
       "(array(['CA', 'NY', 'TX', 'FL', '', 'IL', 'NJ', 'GA', 'PA', 'OH', 'MI', 'NC', 'VA', 'MD', 'AZ',\n",
       "        'WA', 'MA', 'CO', 'MO', 'MN', 'IN', 'WI', 'TN', 'CT', 'NV', 'AL', 'LA', 'OR', 'SC', 'KY',\n",
       "        'KS', 'OK', 'UT', 'AR', 'MS', 'NH', 'NM', 'WV', 'HI', 'RI', 'MT', 'DC', 'DE', 'WY', 'AK',\n",
       "        'NE', 'SD', 'VT', 'ND', 'ME'], dtype='<U69'),\n",
       " array([1336,  777,  758,  690,  500,  389,  341,  321,  320,  312,  267,  261,  242,  222,  220,\n",
       "         216,  210,  201,  160,  156,  152,  148,  143,  143,  130,  119,  116,  108,  107,   84,\n",
       "          84,   83,   74,   74,   61,   58,   57,   49,   44,   40,   28,   27,   27,   27,   26,\n",
       "          25,   24,   17,   16,   10]))"
      ]
     },
     "execution_count": 746,
     "metadata": {},
     "output_type": "execute_result"
    }
   ],
   "source": [
    "states_names, states_count= np.unique(loan_data_strings[:,5], return_counts= True)\n",
    "states_count_sorted= np.argsort(-states_count)\n",
    "states_names[states_count_sorted], states_count[states_count_sorted]"
   ]
  },
  {
   "cell_type": "code",
   "execution_count": 747,
   "id": "aa785855-10ff-4644-9ad8-127e0b03ce0a",
   "metadata": {},
   "outputs": [],
   "source": [
    "loan_data_strings[:,5]= np.where(loan_data_strings[:,5] == '',\n",
    "                                 0,\n",
    "                                 loan_data_strings[:,5])"
   ]
  },
  {
   "cell_type": "code",
   "execution_count": 748,
   "id": "4a8fef66-6dd2-4283-8934-aa4f2a7faa59",
   "metadata": {},
   "outputs": [],
   "source": [
    "states_west = np.array(['WA', 'OR', 'CA', 'NV', 'ID', 'MT', 'WY', 'UT', 'CO', 'AZ', 'NM', 'HI', 'AK'])\n",
    "states_south = np.array(['TX', 'OK', 'AR', 'LA', 'MS', 'AL', 'TN', 'KY', 'FL', 'GA', 'SC', 'NC', 'VA', 'WV', 'MD', 'DE', 'DC'])\n",
    "states_midwest = np.array(['ND', 'SD', 'NE', 'KS', 'MN', 'IA', 'MO', 'WI', 'IL', 'IN', 'MI', 'OH'])\n",
    "states_east = np.array(['PA', 'NY', 'NJ', 'CT', 'MA', 'VT', 'NH', 'ME', 'RI'])"
   ]
  },
  {
   "cell_type": "code",
   "execution_count": 749,
   "id": "506ad931-47ca-457b-98a0-2275e632fcfe",
   "metadata": {},
   "outputs": [],
   "source": [
    "loan_data_strings[:,5]= np.where(np.isin(loan_data_strings[:,5], states_west), 1, loan_data_strings[:,5])\n",
    "loan_data_strings[:,5]= np.where(np.isin(loan_data_strings[:,5], states_south), 2, loan_data_strings[:,5])\n",
    "loan_data_strings[:,5]= np.where(np.isin(loan_data_strings[:,5], states_midwest), 3, loan_data_strings[:,5])\n",
    "loan_data_strings[:,5]= np.where(np.isin(loan_data_strings[:,5], states_east), 4, loan_data_strings[:,5])"
   ]
  },
  {
   "cell_type": "code",
   "execution_count": 750,
   "id": "e1add87f-24a2-4335-920d-832ab8ea1432",
   "metadata": {},
   "outputs": [
    {
     "data": {
      "text/plain": [
       "array(['0', '1', '2', '3', '4'], dtype='<U69')"
      ]
     },
     "execution_count": 750,
     "metadata": {},
     "output_type": "execute_result"
    }
   ],
   "source": [
    "np.unique(loan_data_strings[:,5])"
   ]
  },
  {
   "cell_type": "markdown",
   "id": "fefce24f-d008-4417-a99c-4bcae16c222e",
   "metadata": {},
   "source": [
    "## Converting to Numbers"
   ]
  },
  {
   "cell_type": "code",
   "execution_count": 752,
   "id": "8cf25722-d1d7-47b1-bde6-a5246e9aaa67",
   "metadata": {},
   "outputs": [
    {
     "data": {
      "text/plain": [
       "array([['5', '1', '36', '13', '1', '1'],\n",
       "       ['0', '1', '36', '5', '1', '4'],\n",
       "       ['9', '1', '36', '10', '1', '4'],\n",
       "       ...,\n",
       "       ['6', '1', '36', '5', '1', '1'],\n",
       "       ['4', '1', '36', '17', '1', '3'],\n",
       "       ['12', '1', '36', '4', '0', '3']], dtype='<U69')"
      ]
     },
     "execution_count": 752,
     "metadata": {},
     "output_type": "execute_result"
    }
   ],
   "source": [
    "loan_data_strings"
   ]
  },
  {
   "cell_type": "code",
   "execution_count": 753,
   "id": "ac093a6d-3e1c-4a14-b09e-fb4c38d545a1",
   "metadata": {},
   "outputs": [
    {
     "data": {
      "text/plain": [
       "array([[ 5,  1, 36, 13,  1,  1],\n",
       "       [ 0,  1, 36,  5,  1,  4],\n",
       "       [ 9,  1, 36, 10,  1,  4],\n",
       "       ...,\n",
       "       [ 6,  1, 36,  5,  1,  1],\n",
       "       [ 4,  1, 36, 17,  1,  3],\n",
       "       [12,  1, 36,  4,  0,  3]], dtype=int32)"
      ]
     },
     "execution_count": 753,
     "metadata": {},
     "output_type": "execute_result"
    }
   ],
   "source": [
    "loan_data_strings.astype('int32')"
   ]
  },
  {
   "cell_type": "code",
   "execution_count": 754,
   "id": "f6682ec8-f0dd-49bc-b96a-a24e9f2cec1b",
   "metadata": {},
   "outputs": [],
   "source": [
    "loan_data_strings= loan_data_strings.astype('int32')"
   ]
  },
  {
   "cell_type": "code",
   "execution_count": 755,
   "id": "73bcff26-92a9-4882-8d8d-9fe64fc791d6",
   "metadata": {},
   "outputs": [
    {
     "data": {
      "text/plain": [
       "array([[ 5,  1, 36, 13,  1,  1],\n",
       "       [ 0,  1, 36,  5,  1,  4],\n",
       "       [ 9,  1, 36, 10,  1,  4],\n",
       "       ...,\n",
       "       [ 6,  1, 36,  5,  1,  1],\n",
       "       [ 4,  1, 36, 17,  1,  3],\n",
       "       [12,  1, 36,  4,  0,  3]], dtype=int32)"
      ]
     },
     "execution_count": 755,
     "metadata": {},
     "output_type": "execute_result"
    }
   ],
   "source": [
    "loan_data_strings"
   ]
  },
  {
   "cell_type": "code",
   "execution_count": 756,
   "id": "1bcba383-3ade-4861-87da-1615757097ec",
   "metadata": {},
   "outputs": [
    {
     "data": {
      "text/plain": [
       "NpzFile 'Checkpoint-Strings.npz' with keys: header, data"
      ]
     },
     "execution_count": 756,
     "metadata": {},
     "output_type": "execute_result"
    }
   ],
   "source": [
    "checkpoint('Checkpoint-Strings', header_strings, loan_data_strings)"
   ]
  },
  {
   "cell_type": "code",
   "execution_count": 757,
   "id": "0a2fd8c4-2968-42de-bd4d-b0bcdbe8e23c",
   "metadata": {},
   "outputs": [],
   "source": [
    "checkpoint_strings= checkpoint('Checkpoint-Strings', header_strings, loan_data_strings)"
   ]
  },
  {
   "cell_type": "code",
   "execution_count": 758,
   "id": "9190bdb4-5378-4b3a-b5d5-67d6c9f7439c",
   "metadata": {},
   "outputs": [
    {
     "data": {
      "text/plain": [
       "array(['issue_date', 'loan_status', 'term_months', 'sub_grade', 'verification_status',\n",
       "       'state_address'], dtype='<U19')"
      ]
     },
     "execution_count": 758,
     "metadata": {},
     "output_type": "execute_result"
    }
   ],
   "source": [
    "checkpoint_strings['header']"
   ]
  },
  {
   "cell_type": "code",
   "execution_count": 759,
   "id": "3465aa05-7049-4cd5-b9bf-7820757d1ab6",
   "metadata": {},
   "outputs": [
    {
     "data": {
      "text/plain": [
       "array([[ 5,  1, 36, 13,  1,  1],\n",
       "       [ 0,  1, 36,  5,  1,  4],\n",
       "       [ 9,  1, 36, 10,  1,  4],\n",
       "       ...,\n",
       "       [ 6,  1, 36,  5,  1,  1],\n",
       "       [ 4,  1, 36, 17,  1,  3],\n",
       "       [12,  1, 36,  4,  0,  3]], dtype=int32)"
      ]
     },
     "execution_count": 759,
     "metadata": {},
     "output_type": "execute_result"
    }
   ],
   "source": [
    "checkpoint_strings['data']"
   ]
  },
  {
   "cell_type": "code",
   "execution_count": 760,
   "id": "e8aa8be2-1444-44dc-a695-665b823a5e44",
   "metadata": {},
   "outputs": [
    {
     "data": {
      "text/plain": [
       "True"
      ]
     },
     "execution_count": 760,
     "metadata": {},
     "output_type": "execute_result"
    }
   ],
   "source": [
    "np.array_equal(checkpoint_strings['data'], loan_data_strings)"
   ]
  },
  {
   "cell_type": "markdown",
   "id": "564c91af-56e9-4c8b-8455-e9c9198bcf1f",
   "metadata": {},
   "source": [
    "## Manipulating Numeric Columns"
   ]
  },
  {
   "cell_type": "code",
   "execution_count": 762,
   "id": "4ea1b53c-0ed0-49ae-9eba-6fada5c90232",
   "metadata": {},
   "outputs": [
    {
     "data": {
      "text/plain": [
       "array([[48010226.  ,    35000.  ,    35000.  ,       13.33,     1184.86,     9452.96],\n",
       "       [57693261.  ,    30000.  ,    30000.  , 68616520.  ,      938.57,     4679.7 ],\n",
       "       [59432726.  ,    15000.  ,    15000.  , 68616520.  ,      494.86,     1969.83],\n",
       "       ...,\n",
       "       [50415990.  ,    10000.  ,    10000.  , 68616520.  , 68616520.  ,     2185.64],\n",
       "       [46154151.  , 68616520.  ,    10000.  ,       16.55,      354.3 ,     3199.4 ],\n",
       "       [66055249.  ,    10000.  ,    10000.  , 68616520.  ,      309.97,      301.9 ]])"
      ]
     },
     "execution_count": 762,
     "metadata": {},
     "output_type": "execute_result"
    }
   ],
   "source": [
    "loan_data_numeric"
   ]
  },
  {
   "cell_type": "code",
   "execution_count": 763,
   "id": "03cbc926-8906-471e-8129-df1527efcc20",
   "metadata": {},
   "outputs": [
    {
     "data": {
      "text/plain": [
       "0"
      ]
     },
     "execution_count": 763,
     "metadata": {},
     "output_type": "execute_result"
    }
   ],
   "source": [
    "np.isnan(loan_data_numeric).sum() #check for missing values"
   ]
  },
  {
   "cell_type": "markdown",
   "id": "331982a2-1ca2-43e1-8cde-0db0bba43e11",
   "metadata": {},
   "source": [
    "## Substitute \"Filler\" Values"
   ]
  },
  {
   "cell_type": "code",
   "execution_count": 765,
   "id": "5226153e-f952-40ad-8c45-0e01b1974c3d",
   "metadata": {},
   "outputs": [
    {
     "data": {
      "text/plain": [
       "array(['id', 'loan_amnt', 'funded_amnt', 'int_rate', 'installment', 'total_pymnt'], dtype='<U19')"
      ]
     },
     "execution_count": 765,
     "metadata": {},
     "output_type": "execute_result"
    }
   ],
   "source": [
    "header_numeric"
   ]
  },
  {
   "cell_type": "markdown",
   "id": "446b83a5-0d5f-4c9c-946b-ceaf2f04a96e",
   "metadata": {},
   "source": [
    "## ID"
   ]
  },
  {
   "cell_type": "code",
   "execution_count": 767,
   "id": "fcec42cf-8ddc-4f91-8076-961bf1478ef2",
   "metadata": {},
   "outputs": [
    {
     "data": {
      "text/plain": [
       "68616520.0"
      ]
     },
     "execution_count": 767,
     "metadata": {},
     "output_type": "execute_result"
    }
   ],
   "source": [
    "temporary_fill"
   ]
  },
  {
   "cell_type": "code",
   "execution_count": 768,
   "id": "bed33115-5b0b-40f6-8f1d-4b8252b62338",
   "metadata": {},
   "outputs": [
    {
     "data": {
      "text/plain": [
       "array([False, False, False, ..., False, False, False])"
      ]
     },
     "execution_count": 768,
     "metadata": {},
     "output_type": "execute_result"
    }
   ],
   "source": [
    "np.isin(loan_data_numeric[:,0], temporary_fill)"
   ]
  },
  {
   "cell_type": "code",
   "execution_count": 769,
   "id": "28cceafe-ddbe-4927-b599-2b836535d440",
   "metadata": {},
   "outputs": [
    {
     "data": {
      "text/plain": [
       "0"
      ]
     },
     "execution_count": 769,
     "metadata": {},
     "output_type": "execute_result"
    }
   ],
   "source": [
    "np.isin(loan_data_numeric[:,0], temporary_fill).sum()"
   ]
  },
  {
   "cell_type": "code",
   "execution_count": 770,
   "id": "ada404c1-70d9-4e54-9a80-d6239d537bb9",
   "metadata": {},
   "outputs": [
    {
     "data": {
      "text/plain": [
       "array(['id', 'loan_amnt', 'funded_amnt', 'int_rate', 'installment', 'total_pymnt'], dtype='<U19')"
      ]
     },
     "execution_count": 770,
     "metadata": {},
     "output_type": "execute_result"
    }
   ],
   "source": [
    "header_numeric"
   ]
  },
  {
   "cell_type": "markdown",
   "id": "2b65c6b3-220e-4cb3-9541-175f27b8f53d",
   "metadata": {},
   "source": [
    "## Temporary Stats"
   ]
  },
  {
   "cell_type": "code",
   "execution_count": 772,
   "id": "9da15c81-83c6-40f3-9741-3f8600d879dc",
   "metadata": {},
   "outputs": [
    {
     "data": {
      "text/plain": [
       "array([[  373332.  ,         nan,     1000.  ,         nan,     1000.  ,         nan,        6.  ,\n",
       "              31.42,         nan,         nan,         nan,         nan,         nan,        0.  ],\n",
       "       [54015809.19,         nan,    15273.46,         nan,    15311.04,         nan,       16.62,\n",
       "             440.92,         nan,         nan,         nan,         nan,         nan,     3143.85],\n",
       "       [68616519.  ,         nan,    35000.  ,         nan,    35000.  ,         nan,       28.99,\n",
       "            1372.97,         nan,         nan,         nan,         nan,         nan,    41913.62]])"
      ]
     },
     "execution_count": 772,
     "metadata": {},
     "output_type": "execute_result"
    }
   ],
   "source": [
    "temporary_stats"
   ]
  },
  {
   "cell_type": "code",
   "execution_count": 773,
   "id": "3f4f9b3f-f7b4-47c5-927c-645c5ba449a6",
   "metadata": {},
   "outputs": [
    {
     "data": {
      "text/plain": [
       "array([[  373332.  ,     1000.  ,     1000.  ,        6.  ,       31.42,        0.  ],\n",
       "       [54015809.19,    15273.46,    15311.04,       16.62,      440.92,     3143.85],\n",
       "       [68616519.  ,    35000.  ,    35000.  ,       28.99,     1372.97,    41913.62]])"
      ]
     },
     "execution_count": 773,
     "metadata": {},
     "output_type": "execute_result"
    }
   ],
   "source": [
    "temporary_stats[:, columns_numeric]\n",
    "#the top all the mins, the middle all the means, the bottom all the maxes,\n",
    "#this is important, because we will be using temporary stats to substitute all the temporary fillers"
   ]
  },
  {
   "cell_type": "markdown",
   "id": "a265e648-623a-419d-8e4a-a81a0efd4eed",
   "metadata": {},
   "source": [
    "## Funded Amount"
   ]
  },
  {
   "cell_type": "code",
   "execution_count": 775,
   "id": "eaa0e9a8-868e-4b2b-b3dd-7149a863116e",
   "metadata": {},
   "outputs": [
    {
     "data": {
      "text/plain": [
       "array([35000., 30000., 15000., ..., 10000., 10000., 10000.])"
      ]
     },
     "execution_count": 775,
     "metadata": {},
     "output_type": "execute_result"
    }
   ],
   "source": [
    "loan_data_numeric[:,2]"
   ]
  },
  {
   "cell_type": "code",
   "execution_count": 776,
   "id": "ff54d62b-7376-48c9-ae20-e44e74cbc8a4",
   "metadata": {},
   "outputs": [
    {
     "data": {
      "text/plain": [
       "array([35000., 30000., 15000., ..., 10000., 10000., 10000.])"
      ]
     },
     "execution_count": 776,
     "metadata": {},
     "output_type": "execute_result"
    }
   ],
   "source": [
    "loan_data_numeric[:,2]= np.where(loan_data_numeric[:,2] == temporary_fill,\n",
    "                                 temporary_stats[0, columns_numeric[2]],\n",
    "                                 loan_data_numeric[:,2])\n",
    "loan_data_numeric[:,2]"
   ]
  },
  {
   "cell_type": "code",
   "execution_count": 777,
   "id": "536ef5de-4c2b-4275-96fe-f06a6cdf0878",
   "metadata": {},
   "outputs": [
    {
     "data": {
      "text/plain": [
       "6.0"
      ]
     },
     "execution_count": 777,
     "metadata": {},
     "output_type": "execute_result"
    }
   ],
   "source": [
    "temporary_stats[0, columns_numeric[3]]"
   ]
  },
  {
   "cell_type": "markdown",
   "id": "51e115a0-4171-4602-870b-395246e7dcdb",
   "metadata": {},
   "source": [
    "## Loaned Amount, Interset Rate, Total Payment, Installment"
   ]
  },
  {
   "cell_type": "code",
   "execution_count": 779,
   "id": "f047624f-1c01-4c29-8ce5-9a147693ddf5",
   "metadata": {},
   "outputs": [
    {
     "data": {
      "text/plain": [
       "array(['id', 'loan_amnt', 'funded_amnt', 'int_rate', 'installment', 'total_pymnt'], dtype='<U19')"
      ]
     },
     "execution_count": 779,
     "metadata": {},
     "output_type": "execute_result"
    }
   ],
   "source": [
    "header_numeric"
   ]
  },
  {
   "cell_type": "code",
   "execution_count": 780,
   "id": "07744973-6740-4f9e-bd2f-49c2ae0c49af",
   "metadata": {},
   "outputs": [],
   "source": [
    "for i in [1, 3, 4, 5]:\n",
    "    loan_data_numeric[:,i]= np.where(loan_data_numeric[:,i] == temporary_fill,\n",
    "                                 temporary_stats[2, columns_numeric[i]],\n",
    "                                 loan_data_numeric[:,i])"
   ]
  },
  {
   "cell_type": "code",
   "execution_count": 781,
   "id": "8ebc64f2-027e-473a-91ae-3ad0e18fd8a3",
   "metadata": {},
   "outputs": [
    {
     "data": {
      "text/plain": [
       "array([[48010226.  ,    35000.  ,    35000.  ,       13.33,     1184.86,     9452.96],\n",
       "       [57693261.  ,    30000.  ,    30000.  ,       28.99,      938.57,     4679.7 ],\n",
       "       [59432726.  ,    15000.  ,    15000.  ,       28.99,      494.86,     1969.83],\n",
       "       ...,\n",
       "       [50415990.  ,    10000.  ,    10000.  ,       28.99,     1372.97,     2185.64],\n",
       "       [46154151.  ,    35000.  ,    10000.  ,       16.55,      354.3 ,     3199.4 ],\n",
       "       [66055249.  ,    10000.  ,    10000.  ,       28.99,      309.97,      301.9 ]])"
      ]
     },
     "execution_count": 781,
     "metadata": {},
     "output_type": "execute_result"
    }
   ],
   "source": [
    "loan_data_numeric"
   ]
  },
  {
   "cell_type": "markdown",
   "id": "5a424b45-9a7a-4a49-8462-b49af8b2de5a",
   "metadata": {},
   "source": [
    "## The Exchange Rate"
   ]
  },
  {
   "cell_type": "code",
   "execution_count": 783,
   "id": "2c3c7e16-f516-463e-a716-8af7cc879948",
   "metadata": {},
   "outputs": [
    {
     "data": {
      "text/plain": [
       "array([[ nan,  nan,  nan,  nan,  nan],\n",
       "       [1.21, 1.21, 1.11, 1.13, 0.  ],\n",
       "       [1.13, 1.15, 1.12, 1.12, 0.  ],\n",
       "       [1.12, 1.12, 1.05, 1.08, 0.  ],\n",
       "       [1.07, 1.12, 1.05, 1.11, 0.  ],\n",
       "       [1.12, 1.15, 1.08, 1.1 , 0.  ],\n",
       "       [1.1 , 1.14, 1.09, 1.12, 0.  ],\n",
       "       [1.11, 1.12, 1.08, 1.09, 0.  ],\n",
       "       [1.1 , 1.17, 1.09, 1.13, 0.  ],\n",
       "       [1.12, 1.15, 1.11, 1.13, 0.  ],\n",
       "       [1.12, 1.15, 1.09, 1.1 , 0.  ],\n",
       "       [1.1 , 1.11, 1.06, 1.06, 0.  ],\n",
       "       [1.06, 1.11, 1.05, 1.09, 0.  ]])"
      ]
     },
     "execution_count": 783,
     "metadata": {},
     "output_type": "execute_result"
    }
   ],
   "source": [
    "EUR_USD= np.genfromtxt('EUR-USD.csv', delimiter=',', autostrip= True)\n",
    "EUR_USD"
   ]
  },
  {
   "cell_type": "code",
   "execution_count": 784,
   "id": "1de617c2-b41f-48ed-932f-bd10b3d0c060",
   "metadata": {},
   "outputs": [
    {
     "data": {
      "text/plain": [
       "array([['Open', 'High', 'Low', 'Close', 'Volume'],\n",
       "       ['1.2098628282546997', '1.2098628282546997', '1.11055588722229', '1.1287955045700073', '0'],\n",
       "       ['1.1287955045700073', '1.1484194993972778', '1.117680549621582', '1.1205360889434814',\n",
       "        '0'],\n",
       "       ['1.119795799255371', '1.1240400075912476', '1.0460032224655151', '1.0830246210098267',\n",
       "        '0'],\n",
       "       ['1.0741022825241089', '1.1247594356536865', '1.0521597862243652', '1.1114321947097778',\n",
       "        '0'],\n",
       "       ['1.1215037107467651', '1.145304799079895', '1.0821995735168457', '1.0960345268249512',\n",
       "        '0'],\n",
       "       ['1.095902442932129', '1.1428401470184326', '1.0888904333114624', '1.122296690940857', '0'],\n",
       "       ['1.1134989261627197', '1.1219995021820068', '1.081270456314087', '1.0939244031906128',\n",
       "        '0'],\n",
       "       ['1.0969001054763794', '1.1705996990203857', '1.0850305557250977', '1.1340054273605347',\n",
       "        '0'],\n",
       "       ['1.1225990056991577', '1.1460003852844238', '1.1089695692062378', '1.1255937814712524',\n",
       "        '0'],\n",
       "       ['1.1171561479568481', '1.1494200229644775', '1.0910003185272217', '1.100897192955017',\n",
       "        '0'],\n",
       "       ['1.1024993658065796', '1.1060001850128174', '1.056400179862976', '1.0583018064498901',\n",
       "        '0'],\n",
       "       ['1.0572947263717651', '1.107000470161438', '1.0541995763778687', '1.093398094177246', '0']],\n",
       "      dtype='<U18')"
      ]
     },
     "execution_count": 784,
     "metadata": {},
     "output_type": "execute_result"
    }
   ],
   "source": [
    "EUR_USD= np.genfromtxt('EUR-USD.csv', delimiter=',', autostrip= True, dtype= 'str') #We set the type to str because we have nan\n",
    "EUR_USD"
   ]
  },
  {
   "cell_type": "code",
   "execution_count": 785,
   "id": "d891801a-e7fc-4acd-a40b-c8158ab7edd2",
   "metadata": {},
   "outputs": [
    {
     "data": {
      "text/plain": [
       "array([1.13, 1.12, 1.08, 1.11, 1.1 , 1.12, 1.09, 1.13, 1.13, 1.1 , 1.06, 1.09])"
      ]
     },
     "execution_count": 785,
     "metadata": {},
     "output_type": "execute_result"
    }
   ],
   "source": [
    "# In analysis, we offten prefer to use the adjusted closing price, which we will find in the fourth column.\n",
    "# Since we only care about the numbers from that column,\n",
    "# we can revert the dtype to the default, skip the header and set the used columns arguments to three.\n",
    "# That way, we will only import the exchange rates we need, without keeping track of high, low or other characteristics for the monthly values. \n",
    "\n",
    "EUR_USD= np.genfromtxt('EUR-USD.csv', delimiter=',', autostrip= True, skip_header= 1, usecols= 3)\n",
    "EUR_USD"
   ]
  },
  {
   "cell_type": "code",
   "execution_count": 786,
   "id": "3005d65e-1d3a-4963-9dc8-391cbde22f6c",
   "metadata": {},
   "outputs": [
    {
     "data": {
      "text/plain": [
       "array(['issue_date', 'loan_status', 'term_months', 'sub_grade', 'verification_status',\n",
       "       'state_address'], dtype='<U19')"
      ]
     },
     "execution_count": 786,
     "metadata": {},
     "output_type": "execute_result"
    }
   ],
   "source": [
    "header_strings"
   ]
  },
  {
   "cell_type": "code",
   "execution_count": 787,
   "id": "a93ab5d9-430e-4e56-8e6e-899d15b10c76",
   "metadata": {},
   "outputs": [
    {
     "data": {
      "text/plain": [
       "array([ 5,  0,  9, ...,  6,  4, 12], dtype=int32)"
      ]
     },
     "execution_count": 787,
     "metadata": {},
     "output_type": "execute_result"
    }
   ],
   "source": [
    "loan_data_strings[:,0]\n",
    "#The value in the output represents which month a loan was issued (0 represent all accounts where the date wasn't provided)"
   ]
  },
  {
   "cell_type": "code",
   "execution_count": 788,
   "id": "8311c1b0-eb74-4e08-b56c-faad1d93f76b",
   "metadata": {},
   "outputs": [],
   "source": [
    "# because we are not using a constant exchange rate so we will create a new column to store the exchange rates for each account.\n",
    "exchange_rate= loan_data_strings[:,0]"
   ]
  },
  {
   "cell_type": "code",
   "execution_count": 789,
   "id": "9a131308-fa4d-46e1-accd-fe459f289c1c",
   "metadata": {},
   "outputs": [
    {
     "data": {
      "text/plain": [
       "array([1.1 , 1.11, 1.13, ..., 1.12, 1.11, 1.09])"
      ]
     },
     "execution_count": 789,
     "metadata": {},
     "output_type": "execute_result"
    }
   ],
   "source": [
    "#All accounts 12months assigned an exchange rate\n",
    "for i in range(1,13):\n",
    "    exchange_rate= np.where(exchange_rate == i,\n",
    "                            EUR_USD[i-1],\n",
    "                            exchange_rate)\n",
    "\n",
    "#for accounts with no issue dates? the more reasonable solution is to assign the annual exchange rate for 2015\n",
    "exchange_rate= np.where(exchange_rate == 0,\n",
    "                        np.mean(EUR_USD),\n",
    "                        exchange_rate)\n",
    "\n",
    "exchange_rate"
   ]
  },
  {
   "cell_type": "code",
   "execution_count": 790,
   "id": "3ceacf0b-1de7-458b-9ef8-f61e8edd3cf2",
   "metadata": {},
   "outputs": [
    {
     "name": "stdout",
     "output_type": "stream",
     "text": [
      "(10000,)\n",
      "(10000, 6)\n"
     ]
    }
   ],
   "source": [
    "# we need to add exexchange_rate to the dataset,\n",
    "# but before we have to check it it has compatible shape with the \"loan_data_numeric\"\n",
    "\n",
    "print(exchange_rate.shape)\n",
    "\n",
    "print(loan_data_numeric.shape)"
   ]
  },
  {
   "cell_type": "code",
   "execution_count": 791,
   "id": "ee6b4ae8-b503-44ef-bd6f-fca212fa7327",
   "metadata": {},
   "outputs": [],
   "source": [
    "#in the previous cell we find out that the 2 arrays have different shapes,\n",
    "# so we must reshape the new array\n",
    "\n",
    "exchange_rate= np.reshape(exchange_rate, (10000,1))"
   ]
  },
  {
   "cell_type": "code",
   "execution_count": 792,
   "id": "b236579c-6885-47a4-a872-8307e0acb7d0",
   "metadata": {
    "scrolled": true
   },
   "outputs": [
    {
     "data": {
      "text/plain": [
       "array([[48010226.  ,    35000.  ,    35000.  , ...,     1184.86,     9452.96,        1.1 ],\n",
       "       [57693261.  ,    30000.  ,    30000.  , ...,      938.57,     4679.7 ,        1.11],\n",
       "       [59432726.  ,    15000.  ,    15000.  , ...,      494.86,     1969.83,        1.13],\n",
       "       ...,\n",
       "       [50415990.  ,    10000.  ,    10000.  , ...,     1372.97,     2185.64,        1.12],\n",
       "       [46154151.  ,    35000.  ,    10000.  , ...,      354.3 ,     3199.4 ,        1.11],\n",
       "       [66055249.  ,    10000.  ,    10000.  , ...,      309.97,      301.9 ,        1.09]])"
      ]
     },
     "execution_count": 792,
     "metadata": {},
     "output_type": "execute_result"
    }
   ],
   "source": [
    "# We cna horizontally  add the new array to the end of the data-set  as both are two dimensional\n",
    "\n",
    "np.hstack((loan_data_numeric, exchange_rate))"
   ]
  },
  {
   "cell_type": "code",
   "execution_count": 793,
   "id": "432ec0b9-933f-4a38-a0d3-f7d239668f11",
   "metadata": {},
   "outputs": [],
   "source": [
    "#set the dataset variable equal to the output\n",
    "loan_data_numeric= np.hstack((loan_data_numeric, exchange_rate))"
   ]
  },
  {
   "cell_type": "code",
   "execution_count": 794,
   "id": "eaa99ef1-5c08-4e13-a014-7f40bf86d923",
   "metadata": {},
   "outputs": [],
   "source": [
    "# add a column to the header, because we added a column to the array\n",
    "# I used np.array(['exchange_rate']) and not \"exchange_rate\" directly,\n",
    "#because I want to adds the entire string 'exchange_rate' as a single element, and name the column\n",
    "\n",
    "header_numeric= np.concatenate((header_numeric, np.array(['exchange_rate'])))"
   ]
  },
  {
   "cell_type": "code",
   "execution_count": 795,
   "id": "46114205-3fe2-4852-88a9-e305c2fe35f1",
   "metadata": {},
   "outputs": [
    {
     "data": {
      "text/plain": [
       "array(['id', 'loan_amnt', 'funded_amnt', 'int_rate', 'installment', 'total_pymnt', 'exchange_rate'],\n",
       "      dtype='<U19')"
      ]
     },
     "execution_count": 795,
     "metadata": {},
     "output_type": "execute_result"
    }
   ],
   "source": [
    "header_numeric"
   ]
  },
  {
   "cell_type": "markdown",
   "id": "3ff2a1db-d8bb-4acb-84fb-10ce5f714970",
   "metadata": {},
   "source": [
    "## From EUR to USD"
   ]
  },
  {
   "cell_type": "code",
   "execution_count": 797,
   "id": "0c117d60-1b1e-4c3b-b1dc-a1df813915e1",
   "metadata": {},
   "outputs": [
    {
     "data": {
      "text/plain": [
       "array(['id', 'loan_amnt', 'funded_amnt', 'int_rate', 'installment', 'total_pymnt', 'exchange_rate'],\n",
       "      dtype='<U19')"
      ]
     },
     "execution_count": 797,
     "metadata": {},
     "output_type": "execute_result"
    }
   ],
   "source": [
    "header_numeric"
   ]
  },
  {
   "cell_type": "code",
   "execution_count": 798,
   "id": "9c245f28-e378-4b6c-b3e6-e9dc87a1ce0b",
   "metadata": {},
   "outputs": [],
   "source": [
    "# as we can see in headers, we have 4 of them contain values in dollars (loan_amnt, funded_amnt, installment, total_pymnt)\n",
    "# to avoid writing out similar code for each one, I will store the indices of these columns in an array called columns dollar.\n",
    "\n",
    "columns_dollar= np.array([1, 2, 4, 5])"
   ]
  },
  {
   "cell_type": "code",
   "execution_count": 799,
   "id": "db954e9a-0828-4a16-8e78-e07e6e67ecdf",
   "metadata": {},
   "outputs": [
    {
     "data": {
      "text/plain": [
       "array([[35000.  , 35000.  ,  1184.86,  9452.96],\n",
       "       [30000.  , 30000.  ,   938.57,  4679.7 ],\n",
       "       [15000.  , 15000.  ,   494.86,  1969.83],\n",
       "       ...,\n",
       "       [10000.  , 10000.  ,  1372.97,  2185.64],\n",
       "       [35000.  , 10000.  ,   354.3 ,  3199.4 ],\n",
       "       [10000.  , 10000.  ,   309.97,   301.9 ]])"
      ]
     },
     "execution_count": 799,
     "metadata": {},
     "output_type": "execute_result"
    }
   ],
   "source": [
    "loan_data_numeric[:,columns_dollar]"
   ]
  },
  {
   "cell_type": "code",
   "execution_count": 800,
   "id": "6a0c4055-4b75-428b-9a07-269d7d0c5e23",
   "metadata": {},
   "outputs": [
    {
     "data": {
      "text/plain": [
       "array([1.1 , 1.11, 1.13, ..., 1.12, 1.11, 1.09])"
      ]
     },
     "execution_count": 800,
     "metadata": {},
     "output_type": "execute_result"
    }
   ],
   "source": [
    "loan_data_numeric[:,6]"
   ]
  },
  {
   "cell_type": "code",
   "execution_count": 801,
   "id": "b897ac82-8657-42cb-8784-4583ce13fe8d",
   "metadata": {},
   "outputs": [
    {
     "ename": "ValueError",
     "evalue": "all the input arrays must have same number of dimensions, but the array at index 0 has 2 dimension(s) and the array at index 1 has 1 dimension(s)",
     "output_type": "error",
     "traceback": [
      "\u001b[0;31m---------------------------------------------------------------------------\u001b[0m",
      "\u001b[0;31mValueError\u001b[0m                                Traceback (most recent call last)",
      "Cell \u001b[0;32mIn[801], line 3\u001b[0m\n\u001b[1;32m      1\u001b[0m \u001b[38;5;66;03m# in every iteration, we will create a new array and horizontally stack it to the end of the data set \u001b[39;00m\n\u001b[1;32m      2\u001b[0m \u001b[38;5;28;01mfor\u001b[39;00m i \u001b[38;5;129;01min\u001b[39;00m columns_dollar:\n\u001b[0;32m----> 3\u001b[0m     loan_data_numeric\u001b[38;5;241m=\u001b[39m \u001b[43mnp\u001b[49m\u001b[38;5;241;43m.\u001b[39;49m\u001b[43mhstack\u001b[49m\u001b[43m(\u001b[49m\u001b[43m(\u001b[49m\u001b[43mloan_data_numeric\u001b[49m\u001b[43m,\u001b[49m\u001b[43m \u001b[49m\u001b[43mloan_data_numeric\u001b[49m\u001b[43m[\u001b[49m\u001b[43m:\u001b[49m\u001b[43m,\u001b[49m\u001b[43mi\u001b[49m\u001b[43m]\u001b[49m\u001b[43m \u001b[49m\u001b[38;5;241;43m/\u001b[39;49m\u001b[43m \u001b[49m\u001b[43mloan_data_numeric\u001b[49m\u001b[43m[\u001b[49m\u001b[43m:\u001b[49m\u001b[43m,\u001b[49m\u001b[38;5;241;43m6\u001b[39;49m\u001b[43m]\u001b[49m\u001b[43m)\u001b[49m\u001b[43m)\u001b[49m\n",
      "File \u001b[0;32m/opt/conda/envs/anaconda-ai-2024.04-py310/lib/python3.10/site-packages/numpy/core/shape_base.py:359\u001b[0m, in \u001b[0;36mhstack\u001b[0;34m(tup, dtype, casting)\u001b[0m\n\u001b[1;32m    357\u001b[0m     \u001b[38;5;28;01mreturn\u001b[39;00m _nx\u001b[38;5;241m.\u001b[39mconcatenate(arrs, \u001b[38;5;241m0\u001b[39m, dtype\u001b[38;5;241m=\u001b[39mdtype, casting\u001b[38;5;241m=\u001b[39mcasting)\n\u001b[1;32m    358\u001b[0m \u001b[38;5;28;01melse\u001b[39;00m:\n\u001b[0;32m--> 359\u001b[0m     \u001b[38;5;28;01mreturn\u001b[39;00m \u001b[43m_nx\u001b[49m\u001b[38;5;241;43m.\u001b[39;49m\u001b[43mconcatenate\u001b[49m\u001b[43m(\u001b[49m\u001b[43marrs\u001b[49m\u001b[43m,\u001b[49m\u001b[43m \u001b[49m\u001b[38;5;241;43m1\u001b[39;49m\u001b[43m,\u001b[49m\u001b[43m \u001b[49m\u001b[43mdtype\u001b[49m\u001b[38;5;241;43m=\u001b[39;49m\u001b[43mdtype\u001b[49m\u001b[43m,\u001b[49m\u001b[43m \u001b[49m\u001b[43mcasting\u001b[49m\u001b[38;5;241;43m=\u001b[39;49m\u001b[43mcasting\u001b[49m\u001b[43m)\u001b[49m\n",
      "\u001b[0;31mValueError\u001b[0m: all the input arrays must have same number of dimensions, but the array at index 0 has 2 dimension(s) and the array at index 1 has 1 dimension(s)"
     ]
    }
   ],
   "source": [
    "# in every iteration, we will create a new array and horizontally stack it to the end of the data set \n",
    "for i in columns_dollar:\n",
    "    loan_data_numeric= np.hstack((loan_data_numeric, loan_data_numeric[:,i] / loan_data_numeric[:,6]))\n",
    "\n",
    "#we get an error message because the dataset is 2 dimensional, while the Euro values for each iteration will be one dimensional arrays,\n",
    "# therefore we once again need to reshape the vector into a matrix, by giving it a second dimension of length one."
   ]
  },
  {
   "cell_type": "code",
   "execution_count": 821,
   "id": "69ae695f-5851-405d-a0a5-1f008679fc19",
   "metadata": {},
   "outputs": [],
   "source": [
    "for i in columns_dollar:\n",
    "    loan_data_numeric= np.hstack((loan_data_numeric, np.reshape(loan_data_numeric[:,i] / loan_data_numeric[:,6], (10000, 1) )))"
   ]
  },
  {
   "cell_type": "code",
   "execution_count": 822,
   "id": "e8cd6832-026d-41f0-81d5-3477a462ad5c",
   "metadata": {},
   "outputs": [
    {
     "data": {
      "text/plain": [
       "array([[48010226.  ,    35000.  ,    35000.  , ...,    31933.3 ,     1081.04,     8624.69],\n",
       "       [57693261.  ,    30000.  ,    30000.  , ...,    27132.46,      848.86,     4232.39],\n",
       "       [59432726.  ,    15000.  ,    15000.  , ...,    13326.3 ,      439.64,     1750.04],\n",
       "       ...,\n",
       "       [50415990.  ,    10000.  ,    10000.  , ...,     8910.3 ,     1223.36,     1947.47],\n",
       "       [46154151.  ,    35000.  ,    10000.  , ...,     8997.4 ,      318.78,     2878.63],\n",
       "       [66055249.  ,    10000.  ,    10000.  , ...,     9145.8 ,      283.49,      276.11]])"
      ]
     },
     "execution_count": 822,
     "metadata": {},
     "output_type": "execute_result"
    }
   ],
   "source": [
    "loan_data_numeric #check the exchange rate column is no longer last."
   ]
  },
  {
   "cell_type": "code",
   "execution_count": 823,
   "id": "69297f4f-7397-46a4-bb18-4e37093dca53",
   "metadata": {},
   "outputs": [
    {
     "data": {
      "text/plain": [
       "(10000, 11)"
      ]
     },
     "execution_count": 823,
     "metadata": {},
     "output_type": "execute_result"
    }
   ],
   "source": [
    "loan_data_numeric.shape #the output states that the dataset is now a 100000 by 11 arrayn which confirms my intuition"
   ]
  },
  {
   "cell_type": "markdown",
   "id": "a597a1b3-69a3-4094-b989-9e1800bad072",
   "metadata": {},
   "source": [
    "## Expanding the header"
   ]
  },
  {
   "cell_type": "code",
   "execution_count": 825,
   "id": "564d49a2-1561-4bd3-911b-e435178a4c0a",
   "metadata": {},
   "outputs": [],
   "source": [
    "# I will update the header, by creating an array by going through the headers for the dollar columns and attaching _eur after each one\n",
    "header_additional= np.array([column_name + '_EUR' for column_name in header_numeric[columns_dollar]])"
   ]
  },
  {
   "cell_type": "code",
   "execution_count": 826,
   "id": "51cc2f9e-72ff-4a49-a1bf-208c63ae3de0",
   "metadata": {},
   "outputs": [
    {
     "data": {
      "text/plain": [
       "array(['loan_amnt_EUR', 'funded_amnt_EUR', 'installment_EUR', 'total_pymnt_EUR'], dtype='<U15')"
      ]
     },
     "execution_count": 826,
     "metadata": {},
     "output_type": "execute_result"
    }
   ],
   "source": [
    "header_additional"
   ]
  },
  {
   "cell_type": "code",
   "execution_count": 827,
   "id": "59f94192-d20e-421a-a619-9c0d4fa06aaf",
   "metadata": {},
   "outputs": [],
   "source": [
    "#adding the new header array to the end of header numeric\n",
    "header_numeric= np.concatenate((header_numeric, header_additional))"
   ]
  },
  {
   "cell_type": "code",
   "execution_count": 828,
   "id": "a6fa3ead-0368-42ac-b4fc-a8d098d348d5",
   "metadata": {},
   "outputs": [
    {
     "data": {
      "text/plain": [
       "array(['id', 'loan_amnt', 'funded_amnt', 'int_rate', 'installment', 'total_pymnt', 'exchange_rate',\n",
       "       'loan_amnt_EUR', 'funded_amnt_EUR', 'installment_EUR', 'total_pymnt_EUR'], dtype='<U19')"
      ]
     },
     "execution_count": 828,
     "metadata": {},
     "output_type": "execute_result"
    }
   ],
   "source": [
    "header_numeric"
   ]
  },
  {
   "cell_type": "code",
   "execution_count": 829,
   "id": "6ad2e10e-693b-4a9c-b13f-239734aaa5fc",
   "metadata": {},
   "outputs": [],
   "source": [
    "# modify the USD columns so to make them more readable.\n",
    "header_numeric[columns_dollar]= np.array([column_name + '_USD' for column_name in header_numeric[columns_dollar]])"
   ]
  },
  {
   "cell_type": "code",
   "execution_count": 830,
   "id": "e5ec439d-e48f-495b-853b-7110bdee6ee3",
   "metadata": {},
   "outputs": [
    {
     "data": {
      "text/plain": [
       "array(['id', 'loan_amnt_USD', 'funded_amnt_USD', 'int_rate', 'installment_USD', 'total_pymnt_USD',\n",
       "       'exchange_rate', 'loan_amnt_EUR', 'funded_amnt_EUR', 'installment_EUR', 'total_pymnt_EUR'],\n",
       "      dtype='<U19')"
      ]
     },
     "execution_count": 830,
     "metadata": {},
     "output_type": "execute_result"
    }
   ],
   "source": [
    "header_numeric"
   ]
  },
  {
   "cell_type": "code",
   "execution_count": 831,
   "id": "6d0e554c-bcd0-424f-8423-cee92b827c55",
   "metadata": {},
   "outputs": [],
   "source": [
    "columns_index_order= [0, 1, 7, 2, 8, 3, 4, 9, 5, 10, 6]"
   ]
  },
  {
   "cell_type": "code",
   "execution_count": 832,
   "id": "499144d0-bfac-4e9e-b453-e872a44fbca8",
   "metadata": {},
   "outputs": [
    {
     "data": {
      "text/plain": [
       "array(['id', 'loan_amnt_USD', 'loan_amnt_EUR', 'funded_amnt_USD', 'funded_amnt_EUR', 'int_rate',\n",
       "       'installment_USD', 'installment_EUR', 'total_pymnt_USD', 'total_pymnt_EUR', 'exchange_rate'],\n",
       "      dtype='<U19')"
      ]
     },
     "execution_count": 832,
     "metadata": {},
     "output_type": "execute_result"
    }
   ],
   "source": [
    "#ordering columns USD to EUR columns together\n",
    "header_numeric[columns_index_order]"
   ]
  },
  {
   "cell_type": "code",
   "execution_count": 833,
   "id": "ad7e7f3b-544a-4de8-a2cb-d8bfa32429fd",
   "metadata": {},
   "outputs": [
    {
     "data": {
      "text/plain": [
       "array(['id', 'loan_amnt_USD', 'loan_amnt_EUR', 'funded_amnt_USD', 'funded_amnt_EUR', 'int_rate',\n",
       "       'installment_USD', 'installment_EUR', 'total_pymnt_USD', 'total_pymnt_EUR', 'exchange_rate'],\n",
       "      dtype='<U19')"
      ]
     },
     "execution_count": 833,
     "metadata": {},
     "output_type": "execute_result"
    }
   ],
   "source": [
    "header_numeric= header_numeric[columns_index_order]\n",
    "header_numeric"
   ]
  },
  {
   "cell_type": "code",
   "execution_count": 834,
   "id": "d35d7165-e1a8-490d-9ec5-a4d60085b463",
   "metadata": {},
   "outputs": [
    {
     "data": {
      "text/plain": [
       "array([[48010226.  ,    35000.  ,    35000.  , ...,    31933.3 ,     1081.04,     8624.69],\n",
       "       [57693261.  ,    30000.  ,    30000.  , ...,    27132.46,      848.86,     4232.39],\n",
       "       [59432726.  ,    15000.  ,    15000.  , ...,    13326.3 ,      439.64,     1750.04],\n",
       "       ...,\n",
       "       [50415990.  ,    10000.  ,    10000.  , ...,     8910.3 ,     1223.36,     1947.47],\n",
       "       [46154151.  ,    35000.  ,    10000.  , ...,     8997.4 ,      318.78,     2878.63],\n",
       "       [66055249.  ,    10000.  ,    10000.  , ...,     9145.8 ,      283.49,      276.11]])"
      ]
     },
     "execution_count": 834,
     "metadata": {},
     "output_type": "execute_result"
    }
   ],
   "source": [
    "loan_data_numeric"
   ]
  },
  {
   "cell_type": "code",
   "execution_count": 850,
   "id": "7cd44965-a258-404f-9fe0-c11ad3e17dfd",
   "metadata": {},
   "outputs": [
    {
     "data": {
      "text/plain": [
       "array([[48010226.  ,    35000.  ,    31933.3 , ...,     9452.96,     8624.69,        1.1 ],\n",
       "       [57693261.  ,    30000.  ,    27132.46, ...,     4679.7 ,     4232.39,        1.11],\n",
       "       [59432726.  ,    15000.  ,    13326.3 , ...,     1969.83,     1750.04,        1.13],\n",
       "       ...,\n",
       "       [50415990.  ,    10000.  ,     8910.3 , ...,     2185.64,     1947.47,        1.12],\n",
       "       [46154151.  ,    35000.  ,    31490.9 , ...,     3199.4 ,     2878.63,        1.11],\n",
       "       [66055249.  ,    10000.  ,     9145.8 , ...,      301.9 ,      276.11,        1.09]])"
      ]
     },
     "execution_count": 850,
     "metadata": {},
     "output_type": "execute_result"
    }
   ],
   "source": [
    "loan_data_numeric[:,columns_index_order]"
   ]
  },
  {
   "cell_type": "code",
   "execution_count": 852,
   "id": "b5423b04-fb5c-42c4-adb0-eef0e0b457f4",
   "metadata": {},
   "outputs": [
    {
     "data": {
      "text/plain": [
       "array([[48010226.  ,    35000.  ,    31933.3 , ...,     9452.96,     8624.69,        1.1 ],\n",
       "       [57693261.  ,    30000.  ,    27132.46, ...,     4679.7 ,     4232.39,        1.11],\n",
       "       [59432726.  ,    15000.  ,    13326.3 , ...,     1969.83,     1750.04,        1.13],\n",
       "       ...,\n",
       "       [50415990.  ,    10000.  ,     8910.3 , ...,     2185.64,     1947.47,        1.12],\n",
       "       [46154151.  ,    35000.  ,    31490.9 , ...,     3199.4 ,     2878.63,        1.11],\n",
       "       [66055249.  ,    10000.  ,     9145.8 , ...,      301.9 ,      276.11,        1.09]])"
      ]
     },
     "execution_count": 852,
     "metadata": {},
     "output_type": "execute_result"
    }
   ],
   "source": [
    "#assign to loan_data_numeric a version of itself arranged according to the columns index\n",
    "loan_data_numeric= loan_data_numeric[:,columns_index_order]\n",
    "loan_data_numeric"
   ]
  },
  {
   "cell_type": "code",
   "execution_count": 854,
   "id": "804ac3b7-ab86-4444-a028-b62aa7967008",
   "metadata": {},
   "outputs": [
    {
     "data": {
      "text/plain": [
       "array([[48010226.  ,    35000.  ,    31933.3 , ...,     9452.96,     8624.69,        1.1 ],\n",
       "       [57693261.  ,    30000.  ,    27132.46, ...,     4679.7 ,     4232.39,        1.11],\n",
       "       [59432726.  ,    15000.  ,    13326.3 , ...,     1969.83,     1750.04,        1.13],\n",
       "       ...,\n",
       "       [50415990.  ,    10000.  ,     8910.3 , ...,     2185.64,     1947.47,        1.12],\n",
       "       [46154151.  ,    35000.  ,    31490.9 , ...,     3199.4 ,     2878.63,        1.11],\n",
       "       [66055249.  ,    10000.  ,     9145.8 , ...,      301.9 ,      276.11,        1.09]])"
      ]
     },
     "execution_count": 854,
     "metadata": {},
     "output_type": "execute_result"
    }
   ],
   "source": [
    "loan_data_numeric"
   ]
  },
  {
   "cell_type": "markdown",
   "id": "f88a7126-35e4-4594-96d9-285415c5f575",
   "metadata": {},
   "source": [
    "## Interest Rate"
   ]
  },
  {
   "cell_type": "code",
   "execution_count": 860,
   "id": "483ddbc6-eae9-428e-a8e1-2547122b5c8e",
   "metadata": {},
   "outputs": [
    {
     "data": {
      "text/plain": [
       "array(['id', 'loan_amnt_USD', 'loan_amnt_EUR', 'funded_amnt_USD', 'funded_amnt_EUR', 'int_rate',\n",
       "       'installment_USD', 'installment_EUR', 'total_pymnt_USD', 'total_pymnt_EUR', 'exchange_rate'],\n",
       "      dtype='<U19')"
      ]
     },
     "execution_count": 860,
     "metadata": {},
     "output_type": "execute_result"
    }
   ],
   "source": [
    "header_numeric"
   ]
  },
  {
   "cell_type": "code",
   "execution_count": 864,
   "id": "a0133af4-8dba-4181-9817-0559daa6105d",
   "metadata": {},
   "outputs": [
    {
     "data": {
      "text/plain": [
       "array([13.33, 28.99, 28.99, ..., 28.99, 16.55, 28.99])"
      ]
     },
     "execution_count": 864,
     "metadata": {},
     "output_type": "execute_result"
    }
   ],
   "source": [
    "loan_data_numeric[:,5]"
   ]
  },
  {
   "cell_type": "code",
   "execution_count": 866,
   "id": "4c176499-fc9d-4f89-b821-c658526b1bb6",
   "metadata": {},
   "outputs": [],
   "source": [
    "# the interest rate values are stored in form of % rather than value between 0 and 1\n",
    "# I will transform the interest rate clumn\n",
    "\n",
    "loan_data_numeric[:,5]= loan_data_numeric[:,5] / 100"
   ]
  },
  {
   "cell_type": "code",
   "execution_count": 868,
   "id": "1a238971-4cbb-43ba-b7bd-658c828cfe9b",
   "metadata": {},
   "outputs": [
    {
     "data": {
      "text/plain": [
       "array([0.13, 0.29, 0.29, ..., 0.29, 0.17, 0.29])"
      ]
     },
     "execution_count": 868,
     "metadata": {},
     "output_type": "execute_result"
    }
   ],
   "source": [
    "loan_data_numeric[:,5]"
   ]
  },
  {
   "cell_type": "markdown",
   "id": "9ee36e94-ba11-4eb6-a024-93dd85328d60",
   "metadata": {},
   "source": [
    "## Checkpoint 2: Numeric"
   ]
  },
  {
   "cell_type": "code",
   "execution_count": 871,
   "id": "5a609194-95c3-43b6-828c-20caa9abffab",
   "metadata": {},
   "outputs": [],
   "source": [
    "checkpoint_numeric= checkpoint('Checkpoint-Numeric', header_numeric, loan_data_numeric)"
   ]
  },
  {
   "cell_type": "code",
   "execution_count": 873,
   "id": "e1cfdd51-784b-4d00-97a4-0c20bcc87f07",
   "metadata": {},
   "outputs": [
    {
     "data": {
      "text/plain": [
       "(array(['id', 'loan_amnt_USD', 'loan_amnt_EUR', 'funded_amnt_USD', 'funded_amnt_EUR', 'int_rate',\n",
       "        'installment_USD', 'installment_EUR', 'total_pymnt_USD', 'total_pymnt_EUR', 'exchange_rate'],\n",
       "       dtype='<U19'),\n",
       " array([[48010226.  ,    35000.  ,    31933.3 , ...,     9452.96,     8624.69,        1.1 ],\n",
       "        [57693261.  ,    30000.  ,    27132.46, ...,     4679.7 ,     4232.39,        1.11],\n",
       "        [59432726.  ,    15000.  ,    13326.3 , ...,     1969.83,     1750.04,        1.13],\n",
       "        ...,\n",
       "        [50415990.  ,    10000.  ,     8910.3 , ...,     2185.64,     1947.47,        1.12],\n",
       "        [46154151.  ,    35000.  ,    31490.9 , ...,     3199.4 ,     2878.63,        1.11],\n",
       "        [66055249.  ,    10000.  ,     9145.8 , ...,      301.9 ,      276.11,        1.09]]))"
      ]
     },
     "execution_count": 873,
     "metadata": {},
     "output_type": "execute_result"
    }
   ],
   "source": [
    "checkpoint_numeric['header'], checkpoint_numeric['data']"
   ]
  },
  {
   "cell_type": "markdown",
   "id": "bc92c9cd-96cd-4e18-9287-5aa1838604ab",
   "metadata": {},
   "source": [
    "## Creating the \"Complete\" Dataset"
   ]
  },
  {
   "cell_type": "code",
   "execution_count": 890,
   "id": "6f181358-ff30-475e-8f9f-b4d8a546ed25",
   "metadata": {},
   "outputs": [
    {
     "data": {
      "text/plain": [
       "(10000, 6)"
      ]
     },
     "execution_count": 890,
     "metadata": {},
     "output_type": "execute_result"
    }
   ],
   "source": [
    "checkpoint_strings['data'].shape #check the shape attributes for the string data-set"
   ]
  },
  {
   "cell_type": "code",
   "execution_count": 892,
   "id": "7571d16d-b87a-4422-9ec4-b07c091a061f",
   "metadata": {},
   "outputs": [
    {
     "data": {
      "text/plain": [
       "(10000, 11)"
      ]
     },
     "execution_count": 892,
     "metadata": {},
     "output_type": "execute_result"
    }
   ],
   "source": [
    "checkpoint_numeric['data'].shape #check the shape attributes for the numeric data-set"
   ]
  },
  {
   "cell_type": "code",
   "execution_count": 894,
   "id": "5936a28c-7c5c-4662-b791-37026ca8e87c",
   "metadata": {},
   "outputs": [
    {
     "data": {
      "text/plain": [
       "array([[48010226.  ,    35000.  ,    31933.3 , ...,       13.  ,        1.  ,        1.  ],\n",
       "       [57693261.  ,    30000.  ,    27132.46, ...,        5.  ,        1.  ,        4.  ],\n",
       "       [59432726.  ,    15000.  ,    13326.3 , ...,       10.  ,        1.  ,        4.  ],\n",
       "       ...,\n",
       "       [50415990.  ,    10000.  ,     8910.3 , ...,        5.  ,        1.  ,        1.  ],\n",
       "       [46154151.  ,    35000.  ,    31490.9 , ...,       17.  ,        1.  ,        3.  ],\n",
       "       [66055249.  ,    10000.  ,     9145.8 , ...,        4.  ,        0.  ,        3.  ]])"
      ]
     },
     "execution_count": 894,
     "metadata": {},
     "output_type": "execute_result"
    }
   ],
   "source": [
    "#both datasets have same number of arrows which means I can stack them side by side.\n",
    "np.hstack((checkpoint_numeric['data'], checkpoint_strings['data'])) # I started by the numeric data because the former contains all the IDs in its first column"
   ]
  },
  {
   "cell_type": "code",
   "execution_count": 896,
   "id": "7ea8004f-b80a-42a0-9349-cc7410fbe62c",
   "metadata": {},
   "outputs": [
    {
     "data": {
      "text/plain": [
       "(10000, 17)"
      ]
     },
     "execution_count": 896,
     "metadata": {},
     "output_type": "execute_result"
    }
   ],
   "source": [
    "np.hstack((checkpoint_numeric['data'], checkpoint_strings['data'])).shape #to make sure that the output is correct"
   ]
  },
  {
   "cell_type": "code",
   "execution_count": 898,
   "id": "e445c848-2a17-45d5-a1bb-e95df700c58e",
   "metadata": {},
   "outputs": [],
   "source": [
    "loan_data = np.hstack((checkpoint_numeric['data'], checkpoint_strings['data'])) # I store the output in a new variable called loan_data."
   ]
  },
  {
   "cell_type": "code",
   "execution_count": 900,
   "id": "fb0870cd-4d79-4bc9-8a57-42fb42a2034a",
   "metadata": {},
   "outputs": [
    {
     "data": {
      "text/plain": [
       "array([[48010226.  ,    35000.  ,    31933.3 , ...,       13.  ,        1.  ,        1.  ],\n",
       "       [57693261.  ,    30000.  ,    27132.46, ...,        5.  ,        1.  ,        4.  ],\n",
       "       [59432726.  ,    15000.  ,    13326.3 , ...,       10.  ,        1.  ,        4.  ],\n",
       "       ...,\n",
       "       [50415990.  ,    10000.  ,     8910.3 , ...,        5.  ,        1.  ,        1.  ],\n",
       "       [46154151.  ,    35000.  ,    31490.9 , ...,       17.  ,        1.  ,        3.  ],\n",
       "       [66055249.  ,    10000.  ,     9145.8 , ...,        4.  ,        0.  ,        3.  ]])"
      ]
     },
     "execution_count": 900,
     "metadata": {},
     "output_type": "execute_result"
    }
   ],
   "source": [
    "loan_data #check if it contains the stacked array"
   ]
  },
  {
   "cell_type": "code",
   "execution_count": 902,
   "id": "06fb9bbf-0853-4a6d-8bc5-e902fd322af8",
   "metadata": {},
   "outputs": [
    {
     "data": {
      "text/plain": [
       "0"
      ]
     },
     "execution_count": 902,
     "metadata": {},
     "output_type": "execute_result"
    }
   ],
   "source": [
    "np.isnan(loan_data).sum() #check if I still have missing values left in the array"
   ]
  },
  {
   "cell_type": "code",
   "execution_count": 904,
   "id": "4e3d661a-7489-4b61-b1c9-866b70acff7c",
   "metadata": {},
   "outputs": [],
   "source": [
    "header_full = np.concatenate((checkpoint_numeric['header'], checkpoint_strings['header'])) # affect header to the combined Data-Set; and store it in a variable called header_full"
   ]
  },
  {
   "cell_type": "code",
   "execution_count": 908,
   "id": "8a2cb7cb-2126-4d83-a7fa-4f664f85fc30",
   "metadata": {},
   "outputs": [
    {
     "data": {
      "text/plain": [
       "array(['id', 'loan_amnt_USD', 'loan_amnt_EUR', 'funded_amnt_USD', 'funded_amnt_EUR', 'int_rate',\n",
       "       'installment_USD', 'installment_EUR', 'total_pymnt_USD', 'total_pymnt_EUR', 'exchange_rate',\n",
       "       'issue_date', 'loan_status', 'term_months', 'sub_grade', 'verification_status',\n",
       "       'state_address'], dtype='<U19')"
      ]
     },
     "execution_count": 908,
     "metadata": {},
     "output_type": "execute_result"
    }
   ],
   "source": [
    "header_full #check if it contains all headers"
   ]
  },
  {
   "cell_type": "markdown",
   "id": "08b03af2-4012-4d94-a6ad-41b7b5d788d5",
   "metadata": {},
   "source": [
    "## Sorting the New Dataset"
   ]
  },
  {
   "cell_type": "code",
   "execution_count": 935,
   "id": "7d2cfd38-816e-4f3c-85e1-02e39b914b39",
   "metadata": {},
   "outputs": [],
   "source": [
    "loan_data = loan_data[np.argsort(loan_data[:,0])] # I sort the entire dataset (loan_data) based on the first column (ID) in ascending order."
   ]
  },
  {
   "cell_type": "code",
   "execution_count": 937,
   "id": "63921884-a903-4206-bb4b-6867c0cd0bb8",
   "metadata": {},
   "outputs": [
    {
     "data": {
      "text/plain": [
       "array([[  373332.  ,     9950.  ,     9038.08, ...,       21.  ,        0.  ,        1.  ],\n",
       "       [  575239.  ,    12000.  ,    10900.2 , ...,       25.  ,        1.  ,        2.  ],\n",
       "       [  707689.  ,    10000.  ,     8924.3 , ...,       13.  ,        1.  ,        0.  ],\n",
       "       ...,\n",
       "       [68614880.  ,     5600.  ,     5121.65, ...,        8.  ,        1.  ,        1.  ],\n",
       "       [68615915.  ,     4000.  ,     3658.32, ...,       10.  ,        1.  ,        2.  ],\n",
       "       [68616519.  ,    21600.  ,    19754.93, ...,        3.  ,        0.  ,        2.  ]])"
      ]
     },
     "execution_count": 937,
     "metadata": {},
     "output_type": "execute_result"
    }
   ],
   "source": [
    "loan_data"
   ]
  },
  {
   "cell_type": "markdown",
   "id": "7bd83a22-89cf-444a-9ca8-0ff49f43ea39",
   "metadata": {},
   "source": [
    "## Storing the New Dataset"
   ]
  },
  {
   "cell_type": "code",
   "execution_count": 949,
   "id": "de436bde-09a4-4fbb-9e37-b5b7ebad2b35",
   "metadata": {},
   "outputs": [],
   "source": [
    "loan_data = np.vstack((header_full, loan_data)) \n",
    "# stack the header on top of the loan_data array\n",
    "# (the vstack function automatically converted all the numbers to text again,\n",
    "#  that's because the stack requires a unified data type across all rows and columns.\n",
    "# by default the function selects the smallest data type, which can hold any of the elements within the array."
   ]
  },
  {
   "cell_type": "code",
   "execution_count": 990,
   "id": "bf283353-03e9-46ff-9f00-7df6966a0c42",
   "metadata": {},
   "outputs": [],
   "source": [
    "#save loan_data to a CSV file with string-formatted entries, separated by commas.\n",
    "np.savetxt('loan-data-preprocessed.csv',\n",
    "           loan_data,\n",
    "           fmt= '%s',\n",
    "           delimiter= ',')"
   ]
  },
  {
   "cell_type": "code",
   "execution_count": null,
   "id": "91ac3d88-177d-4d83-a250-1a61acf79e5c",
   "metadata": {},
   "outputs": [],
   "source": []
  }
 ],
 "metadata": {
  "kernelspec": {
   "display_name": "anaconda-ai-2024.04-py310",
   "language": "python",
   "name": "conda-env-anaconda-ai-2024.04-py310-py"
  },
  "language_info": {
   "codemirror_mode": {
    "name": "ipython",
    "version": 3
   },
   "file_extension": ".py",
   "mimetype": "text/x-python",
   "name": "python",
   "nbconvert_exporter": "python",
   "pygments_lexer": "ipython3",
   "version": "3.10.13"
  }
 },
 "nbformat": 4,
 "nbformat_minor": 5
}
